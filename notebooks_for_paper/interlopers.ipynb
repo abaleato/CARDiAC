{
 "cells": [
  {
   "cell_type": "code",
   "execution_count": 1,
   "id": "ac1fc532-7dab-40fc-8b69-a0e0f38bb31c",
   "metadata": {},
   "outputs": [
    {
     "name": "stderr",
     "output_type": "stream",
     "text": [
      "/tmp/ipykernel_11573/2647508162.py:1: DeprecationWarning: Importing display from IPython.core.display is deprecated since IPython 7.14, please import from IPython display\n",
      "  from IPython.core.display import display, HTML\n"
     ]
    },
    {
     "data": {
      "text/html": [
       "<style>.container { width:100% !important; }</style>"
      ],
      "text/plain": [
       "<IPython.core.display.HTML object>"
      ]
     },
     "metadata": {},
     "output_type": "display_data"
    }
   ],
   "source": [
    "from IPython.core.display import display, HTML\n",
    "display(HTML(\"<style>.container { width:100% !important; }</style>\"))\n",
    "\n",
    "import warnings\n",
    "warnings.filterwarnings('ignore')"
   ]
  },
  {
   "cell_type": "code",
   "execution_count": 2,
   "id": "e4d64866-b860-4d7c-971f-5853ed84aa04",
   "metadata": {},
   "outputs": [],
   "source": [
    "import numpy as np\n",
    "import matplotlib.pyplot as plt\n",
    "import healpy as hp\n",
    "import sys\n",
    "sys.path.append('/global/u1/a/ab2368/varying_dndzs/Varying_dndzs/')\n",
    "from cardiac import templates\n",
    "from cardiac import fields\n",
    "from cardiac import spectrum\n",
    "\n",
    "%matplotlib inline\n",
    "%load_ext autoreload\n",
    "%autoreload 2"
   ]
  },
  {
   "cell_type": "code",
   "execution_count": 47,
   "id": "6c59ab94-4d22-4fb8-8785-184be58a2e07",
   "metadata": {},
   "outputs": [],
   "source": [
    "nside = 64\n",
    "alpha = -2\n",
    "lmax_pert = 100\n",
    "\n",
    "n_samples_of_chi = 2**6 # (a power of 2). Number of samples in chi"
   ]
  },
  {
   "cell_type": "code",
   "execution_count": 48,
   "id": "399c4f86-9732-4277-889c-d7be48988857",
   "metadata": {},
   "outputs": [],
   "source": [
    "my_grid = fields.grid(nside, n_samples_of_chi, z_max_int=3)\n",
    "\n",
    "bvec = [0.786, 0.583, -0.406, -0.512, 1755]\n",
    "\n",
    "zshift_temp_1 = templates.MockTemplate(0.05, nside, -2, 100)\n",
    "zshift_temp_2 = zshift_temp_1 \n"
   ]
  },
  {
   "cell_type": "code",
   "execution_count": null,
   "id": "023e9ecd-7108-4740-ba84-9704dbabb593",
   "metadata": {},
   "outputs": [],
   "source": []
  }
 ],
 "metadata": {
  "kernelspec": {
   "display_name": "varying_dndz",
   "language": "python",
   "name": "varying_dndz"
  },
  "language_info": {
   "codemirror_mode": {
    "name": "ipython",
    "version": 3
   },
   "file_extension": ".py",
   "mimetype": "text/x-python",
   "name": "python",
   "nbconvert_exporter": "python",
   "pygments_lexer": "ipython3",
   "version": "3.9.16"
  }
 },
 "nbformat": 4,
 "nbformat_minor": 5
}
