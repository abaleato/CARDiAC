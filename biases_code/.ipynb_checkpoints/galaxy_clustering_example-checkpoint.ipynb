{
 "cells": [
  {
   "cell_type": "code",
   "execution_count": 2,
   "metadata": {
    "ExecuteTime": {
     "end_time": "2023-05-02T23:05:01.190312Z",
     "start_time": "2023-05-02T23:05:00.017605Z"
    }
   },
   "outputs": [],
   "source": [
    "from IPython.core.display import display, HTML\n",
    "display(HTML(\"<style>.container { width:100% !important; }</style>\"))\n",
    "\n",
    "import numpy as np\n",
    "import matplotlib.pyplot as plt\n",
    "import biases\n",
    "\n",
    "%matplotlib inline\n",
    "%load_ext autoreload\n",
    "%autoreload 2"
   ]
  },
  {
   "cell_type": "markdown",
   "metadata": {},
   "source": [
    "Define the scenario we want to consider"
   ]
  },
  {
   "cell_type": "code",
   "execution_count": 5,
   "metadata": {
    "ExecuteTime": {
     "end_time": "2023-05-02T23:07:22.360934Z",
     "start_time": "2023-05-02T23:07:22.293642Z"
    }
   },
   "outputs": [],
   "source": [
    "sigma = 0.06 # Standard deviation of the fiducial dndz\n",
    "z_mean = 0.59 # Central redshift of the fiducial dndz\n",
    "\n",
    "# Set the range for the integrals over r. If this changes, the normalization of phi(r) will need to be changed too\n",
    "z_min_int = 0.005\n",
    "z_max_int = z_mean+2\n",
    "\n",
    "# Now characterize the perturbations to the dndz\n",
    "error_on_meanz = 0.017*(1+z_mean) # Error on RedMaGiC mean z, from arXiv:1708.01536\n",
    "sigma_zshift = error_on_meanz # Standard deviation of the shifts in the central redshift of the distribution\n",
    "sigma_zwidth = 0 #sigma/10. # Standard deviation of the variations in the width of the distribution\n",
    "modulation_of_mean_of_draws = 0 # Consider also modulating the mean of these shifts across the sky"
   ]
  },
  {
   "cell_type": "markdown",
   "metadata": {},
   "source": [
    "We also need to define the pixelization defining the perturbations of the dNdz"
   ]
  },
  {
   "cell_type": "code",
   "execution_count": 6,
   "metadata": {
    "ExecuteTime": {
     "end_time": "2023-05-02T23:07:22.918962Z",
     "start_time": "2023-05-02T23:07:22.850035Z"
    }
   },
   "outputs": [],
   "source": [
    "nside = 8"
   ]
  },
  {
   "cell_type": "code",
   "execution_count": 7,
   "metadata": {
    "ExecuteTime": {
     "end_time": "2023-05-02T23:07:23.394443Z",
     "start_time": "2023-05-02T23:07:23.324221Z"
    }
   },
   "outputs": [],
   "source": [
    "#UNIT-redmagic bias parameters from 2101.11014\n",
    "#         b1,    b2,    bs2,   bnabla2, SN\n",
    "bvec = [0.786, 0.583, -0.406, -0.512, 1755]"
   ]
  },
  {
   "cell_type": "code",
   "execution_count": 11,
   "metadata": {
    "ExecuteTime": {
     "end_time": "2023-05-02T23:19:03.646460Z",
     "start_time": "2023-05-02T23:14:18.401537Z"
    }
   },
   "outputs": [
    {
     "name": "stderr",
     "output_type": "stream",
     "text": [
      "/Users/antonbaleatolizancos/opt/anaconda3/envs/varying_dndz/lib/python3.9/site-packages/scipy/integrate/_quadrature.py:372: AccuracyWarning: maxiter (3001) exceeded. Latest difference = 6.502319e-13\n",
      "  warnings.warn(\n"
     ]
    },
    {
     "name": "stdout",
     "output_type": "stream",
     "text": [
      "Completed 0%\n",
      "Completed 5%\n",
      "Completed 11%\n",
      "Completed 16%\n",
      "Completed 22%\n",
      "Completed 27%\n",
      "Completed 32%\n",
      "Completed 38%\n",
      "Completed 43%\n",
      "Completed 49%\n",
      "Completed 54%\n",
      "Completed 59%\n",
      "Completed 65%\n",
      "Completed 70%\n",
      "Completed 76%\n",
      "Completed 81%\n",
      "Completed 86%\n",
      "Completed 92%\n",
      "Completed 97%\n"
     ]
    }
   ],
   "source": [
    "redmagic_wn = biases.experiment(sigma, z_mean, sigma_zshift, sigma_zwidth, nside, bvec)"
   ]
  },
  {
   "cell_type": "markdown",
   "metadata": {},
   "source": [
    "Calculate!"
   ]
  },
  {
   "cell_type": "code",
   "execution_count": 13,
   "metadata": {
    "ExecuteTime": {
     "end_time": "2023-05-02T23:43:22.843393Z",
     "start_time": "2023-05-02T23:19:53.846310Z"
    }
   },
   "outputs": [
    {
     "name": "stdout",
     "output_type": "stream",
     "text": [
      "Working on l=31; iteration 1/3\n",
      "Working on l=177; iteration 2/3\n",
      "Working on l=1000; iteration 3/3\n",
      "Working on l=31; iteration 1/3\n"
     ]
    },
    {
     "ename": "AttributeError",
     "evalue": "'experiment' object has no attribute 'Cl_deltap_of_chi1_chi2'",
     "output_type": "error",
     "traceback": [
      "\u001b[0;31m---------------------------------------------------------------------------\u001b[0m",
      "\u001b[0;31mAttributeError\u001b[0m                            Traceback (most recent call last)",
      "Cell \u001b[0;32mIn[13], line 4\u001b[0m\n\u001b[1;32m      1\u001b[0m ells \u001b[38;5;241m=\u001b[39m np\u001b[38;5;241m.\u001b[39mlogspace(\u001b[38;5;241m1.5\u001b[39m, \u001b[38;5;241m3\u001b[39m, \u001b[38;5;241m3\u001b[39m, dtype\u001b[38;5;241m=\u001b[39m\u001b[38;5;28mint\u001b[39m)\n\u001b[1;32m      3\u001b[0m conv_bias \u001b[38;5;241m=\u001b[39m biases\u001b[38;5;241m.\u001b[39mmode_coupling_bias(redmagic_wn, ells)\n\u001b[0;32m----> 4\u001b[0m additive_bias \u001b[38;5;241m=\u001b[39m \u001b[43mbiases\u001b[49m\u001b[38;5;241;43m.\u001b[39;49m\u001b[43madditive_bias\u001b[49m\u001b[43m(\u001b[49m\u001b[43mredmagic_wn\u001b[49m\u001b[43m,\u001b[49m\u001b[43m \u001b[49m\u001b[43mells\u001b[49m\u001b[43m)\u001b[49m\n\u001b[1;32m      5\u001b[0m unbiased_clgg \u001b[38;5;241m=\u001b[39m biases\u001b[38;5;241m.\u001b[39munbiased_term(redmagic_wn, ells)\n",
      "File \u001b[0;32m~/Projects/varying_dndzs/code/biases.py:387\u001b[0m, in \u001b[0;36madditive_bias\u001b[0;34m(exp, ells)\u001b[0m\n\u001b[1;32m    379\u001b[0m \u001b[38;5;250m\u001b[39m\u001b[38;5;124;03m\"\"\" Calculate the mode-coupling bias to the galaxy clustering power spectrum in the Limber approximation,\u001b[39;00m\n\u001b[1;32m    380\u001b[0m \u001b[38;5;124;03m    at a specific l.\u001b[39;00m\n\u001b[1;32m    381\u001b[0m \u001b[38;5;124;03m    - Inputs:\u001b[39;00m\n\u001b[0;32m   (...)\u001b[0m\n\u001b[1;32m    384\u001b[0m \u001b[38;5;124;03m        * l = int. The multipole of \\Delta C_l\u001b[39;00m\n\u001b[1;32m    385\u001b[0m \u001b[38;5;124;03m\"\"\"\u001b[39;00m\n\u001b[1;32m    386\u001b[0m result \u001b[38;5;241m=\u001b[39m \u001b[38;5;241m0\u001b[39m\n\u001b[0;32m--> 387\u001b[0m \u001b[38;5;28;01mfor\u001b[39;00m lprime \u001b[38;5;129;01min\u001b[39;00m \u001b[38;5;28mrange\u001b[39m(lprime_max):\n\u001b[1;32m    388\u001b[0m     \u001b[38;5;28;01mfor\u001b[39;00m L \u001b[38;5;129;01min\u001b[39;00m np\u001b[38;5;241m.\u001b[39marange(np\u001b[38;5;241m.\u001b[39mabs(l \u001b[38;5;241m-\u001b[39m lprime), np\u001b[38;5;241m.\u001b[39mabs(l \u001b[38;5;241m+\u001b[39m lprime) \u001b[38;5;241m+\u001b[39m \u001b[38;5;241m1\u001b[39m, \u001b[38;5;241m1\u001b[39m):\n\u001b[1;32m    389\u001b[0m         \u001b[38;5;28;01mif\u001b[39;00m (l \u001b[38;5;241m+\u001b[39m lprime \u001b[38;5;241m+\u001b[39m L) \u001b[38;5;241m%\u001b[39m \u001b[38;5;241m2\u001b[39m \u001b[38;5;241m==\u001b[39m \u001b[38;5;241m0\u001b[39m:\n",
      "\u001b[0;31mAttributeError\u001b[0m: 'experiment' object has no attribute 'Cl_deltap_of_chi1_chi2'"
     ]
    }
   ],
   "source": [
    "ells = np.logspace(1.5, 3, 3, dtype=int)\n",
    "\n",
    "conv_bias = biases.mode_coupling_bias(redmagic_wn, ells)\n",
    "additive_bias = biases.additive_bias(redmagic_wn, ells)\n",
    "unbiased_clgg = biases.unbiased_term(redmagic_wn, ells)"
   ]
  },
  {
   "cell_type": "code",
   "execution_count": 19,
   "metadata": {
    "ExecuteTime": {
     "end_time": "2023-05-02T23:54:31.501306Z",
     "start_time": "2023-05-02T23:54:31.144117Z"
    }
   },
   "outputs": [
    {
     "ename": "AttributeError",
     "evalue": "'experiment' object has no attribute 'Cl_deltap_of_chi1_chi2'",
     "output_type": "error",
     "traceback": [
      "\u001b[0;31m---------------------------------------------------------------------------\u001b[0m",
      "\u001b[0;31mAttributeError\u001b[0m                            Traceback (most recent call last)",
      "Cell \u001b[0;32mIn[19], line 1\u001b[0m\n\u001b[0;32m----> 1\u001b[0m \u001b[43mredmagic_wn\u001b[49m\u001b[38;5;241;43m.\u001b[39;49m\u001b[43mplot_ClDphi_of_chi_chiprime_2D\u001b[49m\u001b[43m(\u001b[49m\u001b[43m)\u001b[49m\n",
      "File \u001b[0;32m~/Projects/varying_dndzs/code/biases.py:245\u001b[0m, in \u001b[0;36mexperiment.plot_ClDphi_of_chi_chiprime_2D\u001b[0;34m(self, lmax)\u001b[0m\n\u001b[1;32m    242\u001b[0m chi_idx \u001b[38;5;241m=\u001b[39m np\u001b[38;5;241m.\u001b[39mwhere(np\u001b[38;5;241m.\u001b[39mlog10(\u001b[38;5;28mself\u001b[39m\u001b[38;5;241m.\u001b[39mchi_array) \u001b[38;5;241m>\u001b[39m \u001b[38;5;241m3.2\u001b[39m)[\u001b[38;5;241m0\u001b[39m][\u001b[38;5;241m0\u001b[39m]\n\u001b[1;32m    243\u001b[0m X, Y \u001b[38;5;241m=\u001b[39m np\u001b[38;5;241m.\u001b[39mmeshgrid(np\u001b[38;5;241m.\u001b[39marange(\u001b[38;5;28mlen\u001b[39m(\u001b[38;5;28mself\u001b[39m\u001b[38;5;241m.\u001b[39mchi_array)), np\u001b[38;5;241m.\u001b[39marange(lmax \u001b[38;5;241m+\u001b[39m \u001b[38;5;241m1\u001b[39m))\n\u001b[0;32m--> 245\u001b[0m Z_fixed_chi \u001b[38;5;241m=\u001b[39m np\u001b[38;5;241m.\u001b[39mlog10(np\u001b[38;5;241m.\u001b[39mabs(\u001b[38;5;28;43mself\u001b[39;49m\u001b[38;5;241;43m.\u001b[39;49m\u001b[43mCl_deltap_of_chi1_chi2\u001b[49m[:, :, chi_idx]))\n\u001b[1;32m    246\u001b[0m \u001b[38;5;66;03m# Set the log of 0 to a tiny negative number\u001b[39;00m\n\u001b[1;32m    247\u001b[0m Z_fixed_chi[np\u001b[38;5;241m.\u001b[39mabs(\u001b[38;5;28mself\u001b[39m\u001b[38;5;241m.\u001b[39mCl_deltap_of_chi1_chi2[:, :, chi_idx]) \u001b[38;5;241m==\u001b[39m \u001b[38;5;241m0\u001b[39m] \u001b[38;5;241m=\u001b[39m \u001b[38;5;241m-\u001b[39m\u001b[38;5;241m1e100\u001b[39m\n",
      "\u001b[0;31mAttributeError\u001b[0m: 'experiment' object has no attribute 'Cl_deltap_of_chi1_chi2'"
     ]
    }
   ],
   "source": [
    "redmagic_wn.plot_ClDphi_of_chi_chiprime_2D()"
   ]
  },
  {
   "cell_type": "code",
   "execution_count": null,
   "metadata": {},
   "outputs": [],
   "source": []
  }
 ],
 "metadata": {
  "kernelspec": {
   "display_name": "varying_dndz",
   "language": "python",
   "name": "varying_dndz"
  },
  "language_info": {
   "codemirror_mode": {
    "name": "ipython",
    "version": 3
   },
   "file_extension": ".py",
   "mimetype": "text/x-python",
   "name": "python",
   "nbconvert_exporter": "python",
   "pygments_lexer": "ipython3",
   "version": "3.9.16"
  },
  "toc": {
   "base_numbering": 1,
   "nav_menu": {},
   "number_sections": true,
   "sideBar": true,
   "skip_h1_title": false,
   "title_cell": "Table of Contents",
   "title_sidebar": "Contents",
   "toc_cell": false,
   "toc_position": {},
   "toc_section_display": true,
   "toc_window_display": false
  }
 },
 "nbformat": 4,
 "nbformat_minor": 4
}
