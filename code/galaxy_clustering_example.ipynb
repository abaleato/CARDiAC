{
 "cells": [
  {
   "cell_type": "code",
   "execution_count": 2,
   "metadata": {
    "ExecuteTime": {
     "end_time": "2023-05-02T23:05:01.190312Z",
     "start_time": "2023-05-02T23:05:00.017605Z"
    }
   },
   "outputs": [],
   "source": [
    "from IPython.core.display import display, HTML\n",
    "display(HTML(\"<style>.container { width:100% !important; }</style>\"))\n",
    "\n",
    "import numpy as np\n",
    "import matplotlib.pyplot as plt\n",
    "import biases\n",
    "\n",
    "%matplotlib inline\n",
    "%load_ext autoreload\n",
    "%autoreload 2"
   ]
  },
  {
   "cell_type": "markdown",
   "metadata": {},
   "source": [
    "Define the scenario we want to consider"
   ]
  },
  {
   "cell_type": "code",
   "execution_count": 5,
   "metadata": {
    "ExecuteTime": {
     "end_time": "2023-05-02T23:07:22.360934Z",
     "start_time": "2023-05-02T23:07:22.293642Z"
    }
   },
   "outputs": [],
   "source": [
    "sigma = 0.06 # Standard deviation of the fiducial dndz\n",
    "z_mean = 0.59 # Central redshift of the fiducial dndz\n",
    "\n",
    "# Set the range for the integrals over r. If this changes, the normalization of phi(r) will need to be changed too\n",
    "z_min_int = 0.005\n",
    "z_max_int = z_mean+2\n",
    "\n",
    "# Now characterize the perturbations to the dndz\n",
    "error_on_meanz = 0.017*(1+z_mean) # Error on RedMaGiC mean z, from arXiv:1708.01536\n",
    "sigma_zshift = error_on_meanz # Standard deviation of the shifts in the central redshift of the distribution\n",
    "sigma_zwidth = 0 #sigma/10. # Standard deviation of the variations in the width of the distribution\n",
    "modulation_of_mean_of_draws = 0 # Consider also modulating the mean of these shifts across the sky"
   ]
  },
  {
   "cell_type": "markdown",
   "metadata": {},
   "source": [
    "We also need to define the pixelization defining the perturbations of the dNdz"
   ]
  },
  {
   "cell_type": "code",
   "execution_count": 6,
   "metadata": {
    "ExecuteTime": {
     "end_time": "2023-05-02T23:07:22.918962Z",
     "start_time": "2023-05-02T23:07:22.850035Z"
    }
   },
   "outputs": [],
   "source": [
    "nside = 8"
   ]
  },
  {
   "cell_type": "code",
   "execution_count": 7,
   "metadata": {
    "ExecuteTime": {
     "end_time": "2023-05-02T23:07:23.394443Z",
     "start_time": "2023-05-02T23:07:23.324221Z"
    }
   },
   "outputs": [],
   "source": [
    "#UNIT-redmagic bias parameters from 2101.11014\n",
    "#         b1,    b2,    bs2,   bnabla2, SN\n",
    "bvec = [0.786, 0.583, -0.406, -0.512, 1755]"
   ]
  },
  {
   "cell_type": "code",
   "execution_count": 11,
   "metadata": {
    "ExecuteTime": {
     "end_time": "2023-05-02T23:19:03.646460Z",
     "start_time": "2023-05-02T23:14:18.401537Z"
    }
   },
   "outputs": [
    {
     "name": "stderr",
     "output_type": "stream",
     "text": [
      "/Users/antonbaleatolizancos/opt/anaconda3/envs/varying_dndz/lib/python3.9/site-packages/scipy/integrate/_quadrature.py:372: AccuracyWarning: maxiter (3001) exceeded. Latest difference = 6.502319e-13\n",
      "  warnings.warn(\n"
     ]
    },
    {
     "name": "stdout",
     "output_type": "stream",
     "text": [
      "Completed 0%\n",
      "Completed 5%\n",
      "Completed 11%\n",
      "Completed 16%\n",
      "Completed 22%\n",
      "Completed 27%\n",
      "Completed 32%\n",
      "Completed 38%\n",
      "Completed 43%\n",
      "Completed 49%\n",
      "Completed 54%\n",
      "Completed 59%\n",
      "Completed 65%\n",
      "Completed 70%\n",
      "Completed 76%\n",
      "Completed 81%\n",
      "Completed 86%\n",
      "Completed 92%\n",
      "Completed 97%\n"
     ]
    }
   ],
   "source": [
    "redmagic_wn = biases.experiment(sigma, z_mean, sigma_zshift, sigma_zwidth, nside, bvec)"
   ]
  },
  {
   "cell_type": "markdown",
   "metadata": {},
   "source": [
    "Calculate!"
   ]
  },
  {
   "cell_type": "code",
   "execution_count": null,
   "metadata": {
    "ExecuteTime": {
     "start_time": "2023-05-02T23:19:53.842Z"
    }
   },
   "outputs": [
    {
     "name": "stdout",
     "output_type": "stream",
     "text": [
      "Working on l=31; iteration 1/3\n"
     ]
    }
   ],
   "source": [
    "ells = np.logspace(1.5, 3, 3, dtype=int)\n",
    "\n",
    "conv_bias = biases.mode_coupling_bias(redmagic_wn, ells)\n",
    "additive_bias = biases.additive_bias(redmagic_wn, ells)\n",
    "unbiased_clgg = biases.unbiased_term(redmagic_wn, ells)"
   ]
  },
  {
   "cell_type": "code",
   "execution_count": null,
   "metadata": {},
   "outputs": [],
   "source": []
  }
 ],
 "metadata": {
  "kernelspec": {
   "display_name": "varying_dndz",
   "language": "python",
   "name": "varying_dndz"
  },
  "language_info": {
   "codemirror_mode": {
    "name": "ipython",
    "version": 3
   },
   "file_extension": ".py",
   "mimetype": "text/x-python",
   "name": "python",
   "nbconvert_exporter": "python",
   "pygments_lexer": "ipython3",
   "version": "3.9.16"
  },
  "toc": {
   "base_numbering": 1,
   "nav_menu": {},
   "number_sections": true,
   "sideBar": true,
   "skip_h1_title": false,
   "title_cell": "Table of Contents",
   "title_sidebar": "Contents",
   "toc_cell": false,
   "toc_position": {},
   "toc_section_display": true,
   "toc_window_display": false
  }
 },
 "nbformat": 4,
 "nbformat_minor": 4
}
