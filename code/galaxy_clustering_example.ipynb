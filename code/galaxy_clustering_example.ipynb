{
 "cells": [
  {
   "cell_type": "markdown",
   "metadata": {},
   "source": [
    "This notebook explains how to calculate biases to galaxy clustering auto-spectra, using parallelization in NERSC "
   ]
  },
  {
   "cell_type": "code",
   "execution_count": 2,
   "metadata": {
    "ExecuteTime": {
     "end_time": "2023-05-02T23:05:01.190312Z",
     "start_time": "2023-05-02T23:05:00.017605Z"
    }
   },
   "outputs": [
    {
     "data": {
      "text/html": [
       "<style>.container { width:100% !important; }</style>"
      ],
      "text/plain": [
       "<IPython.core.display.HTML object>"
      ]
     },
     "metadata": {},
     "output_type": "display_data"
    }
   ],
   "source": [
    "from IPython.core.display import display, HTML\n",
    "display(HTML(\"<style>.container { width:100% !important; }</style>\"))\n",
    "\n",
    "import warnings\n",
    "warnings.filterwarnings('ignore')\n",
    "\n",
    "import numpy as np\n",
    "import matplotlib.pyplot as plt\n",
    "import biases\n",
    "\n",
    "%matplotlib inline\n",
    "%load_ext autoreload\n",
    "%autoreload 2"
   ]
  },
  {
   "cell_type": "markdown",
   "metadata": {},
   "source": [
    "#### Setup"
   ]
  },
  {
   "cell_type": "markdown",
   "metadata": {},
   "source": [
    "Define the scenario we want to consider"
   ]
  },
  {
   "cell_type": "code",
   "execution_count": 3,
   "metadata": {
    "ExecuteTime": {
     "end_time": "2023-05-02T23:07:22.360934Z",
     "start_time": "2023-05-02T23:07:22.293642Z"
    }
   },
   "outputs": [],
   "source": [
    "sigma = 0.06 # Standard deviation of the fiducial dndz\n",
    "z_mean = 0.59 # Central redshift of the fiducial dndz\n",
    "\n",
    "# Set the range for the integrals over r. If this changes, the normalization of phi(r) will need to be changed too\n",
    "z_min_int = 0.005\n",
    "z_max_int = z_mean+2\n",
    "\n",
    "# Now characterize the perturbations to the dndz\n",
    "error_on_meanz = 0.017*(1+z_mean) # Error on RedMaGiC mean z, from arXiv:1708.01536\n",
    "sigma_zshift = error_on_meanz # Standard deviation of the shifts in the central redshift of the distribution\n",
    "sigma_zwidth = 0 #sigma/10. # Standard deviation of the variations in the width of the distribution\n",
    "modulation_of_mean_of_draws = 0 # Consider also modulating the mean of these shifts across the sky"
   ]
  },
  {
   "cell_type": "markdown",
   "metadata": {},
   "source": [
    "We also need to define the pixelization defining the perturbations of the dNdz"
   ]
  },
  {
   "cell_type": "code",
   "execution_count": 57,
   "metadata": {
    "ExecuteTime": {
     "end_time": "2023-05-02T23:07:22.918962Z",
     "start_time": "2023-05-02T23:07:22.850035Z"
    }
   },
   "outputs": [],
   "source": [
    "nside = 8"
   ]
  },
  {
   "cell_type": "markdown",
   "metadata": {},
   "source": [
    "And the Lagrangian bias parameters for the galaxy power spectrum (if you want to use a different prescription, it's easy to modify the code to do so)"
   ]
  },
  {
   "cell_type": "code",
   "execution_count": 56,
   "metadata": {
    "ExecuteTime": {
     "end_time": "2023-05-02T23:07:23.394443Z",
     "start_time": "2023-05-02T23:07:23.324221Z"
    }
   },
   "outputs": [],
   "source": [
    "#UNIT-redmagic bias parameters from 2101.11014\n",
    "#         b1,    b2,    bs2,   bnabla2, SN\n",
    "bvec = [0.786, 0.583, -0.406, -0.512, 1755]"
   ]
  },
  {
   "cell_type": "markdown",
   "metadata": {
    "tags": []
   },
   "source": [
    "#### Preprocessing"
   ]
  },
  {
   "cell_type": "markdown",
   "metadata": {},
   "source": [
    "First, a bit of pre-processing:"
   ]
  },
  {
   "cell_type": "code",
   "execution_count": 133,
   "metadata": {
    "ExecuteTime": {
     "end_time": "2023-05-02T23:19:03.646460Z",
     "start_time": "2023-05-02T23:14:18.401537Z"
    },
    "scrolled": true,
    "tags": []
   },
   "outputs": [
    {
     "name": "stdout",
     "output_type": "stream",
     "text": [
      "Completed 0%\n",
      "Completed 5%\n",
      "Completed 11%\n",
      "Completed 16%\n",
      "Completed 22%\n",
      "Completed 27%\n",
      "Completed 32%\n",
      "Completed 38%\n",
      "Completed 43%\n",
      "Completed 49%\n",
      "Completed 54%\n",
      "Completed 59%\n",
      "Completed 65%\n",
      "Completed 70%\n",
      "Completed 76%\n",
      "Completed 81%\n",
      "Completed 86%\n",
      "Completed 92%\n",
      "Completed 97%\n"
     ]
    },
    {
     "ename": "RuntimeError",
     "evalue": "Undefined plan with nthreads. This is a bug",
     "output_type": "error",
     "traceback": [
      "\u001b[0;31m---------------------------------------------------------------------------\u001b[0m",
      "\u001b[0;31mRuntimeError\u001b[0m                              Traceback (most recent call last)",
      "\u001b[0;31mRuntimeError\u001b[0m: Undefined plan with nthreads. This is a bug"
     ]
    },
    {
     "name": "stderr",
     "output_type": "stream",
     "text": [
      "Exception ignored in: 'pyfftw.pyfftw._fftw_plan_with_nthreads_null'\n",
      "Traceback (most recent call last):\n",
      "  File \"/global/homes/a/ab2368/.conda/envs/varying_dndz/lib/python3.9/site-packages/velocileptors/Utils/spherical_bessel_transform_fftw.py\", line 64, in __init__\n",
      "    self.fft_object = pyfftw.FFTW(self.fs, self.fks, direction='FFTW_FORWARD',threads=threads)\n",
      "RuntimeError: Undefined plan with nthreads. This is a bug\n"
     ]
    },
    {
     "ename": "RuntimeError",
     "evalue": "Undefined plan with nthreads. This is a bug",
     "output_type": "error",
     "traceback": [
      "\u001b[0;31m---------------------------------------------------------------------------\u001b[0m",
      "\u001b[0;31mRuntimeError\u001b[0m                              Traceback (most recent call last)",
      "\u001b[0;31mRuntimeError\u001b[0m: Undefined plan with nthreads. This is a bug"
     ]
    },
    {
     "name": "stderr",
     "output_type": "stream",
     "text": [
      "Exception ignored in: 'pyfftw.pyfftw._fftw_plan_with_nthreads_null'\n",
      "Traceback (most recent call last):\n",
      "  File \"/global/homes/a/ab2368/.conda/envs/varying_dndz/lib/python3.9/site-packages/velocileptors/Utils/spherical_bessel_transform_fftw.py\", line 65, in __init__\n",
      "    self.ifft_object = pyfftw.FFTW(self.gks, self.gs, direction='FFTW_BACKWARD',threads=threads)\n",
      "RuntimeError: Undefined plan with nthreads. This is a bug\n"
     ]
    },
    {
     "ename": "RuntimeError",
     "evalue": "Undefined plan with nthreads. This is a bug",
     "output_type": "error",
     "traceback": [
      "\u001b[0;31m---------------------------------------------------------------------------\u001b[0m",
      "\u001b[0;31mRuntimeError\u001b[0m                              Traceback (most recent call last)",
      "\u001b[0;31mRuntimeError\u001b[0m: Undefined plan with nthreads. This is a bug"
     ]
    },
    {
     "name": "stderr",
     "output_type": "stream",
     "text": [
      "Exception ignored in: 'pyfftw.pyfftw._fftw_plan_with_nthreads_null'\n",
      "Traceback (most recent call last):\n",
      "  File \"/global/homes/a/ab2368/.conda/envs/varying_dndz/lib/python3.9/site-packages/velocileptors/Utils/spherical_bessel_transform_fftw.py\", line 64, in __init__\n",
      "    self.fft_object = pyfftw.FFTW(self.fs, self.fks, direction='FFTW_FORWARD',threads=threads)\n",
      "RuntimeError: Undefined plan with nthreads. This is a bug\n"
     ]
    },
    {
     "ename": "RuntimeError",
     "evalue": "Undefined plan with nthreads. This is a bug",
     "output_type": "error",
     "traceback": [
      "\u001b[0;31m---------------------------------------------------------------------------\u001b[0m",
      "\u001b[0;31mRuntimeError\u001b[0m                              Traceback (most recent call last)",
      "\u001b[0;31mRuntimeError\u001b[0m: Undefined plan with nthreads. This is a bug"
     ]
    },
    {
     "name": "stderr",
     "output_type": "stream",
     "text": [
      "Exception ignored in: 'pyfftw.pyfftw._fftw_plan_with_nthreads_null'\n",
      "Traceback (most recent call last):\n",
      "  File \"/global/homes/a/ab2368/.conda/envs/varying_dndz/lib/python3.9/site-packages/velocileptors/Utils/spherical_bessel_transform_fftw.py\", line 65, in __init__\n",
      "    self.ifft_object = pyfftw.FFTW(self.gks, self.gs, direction='FFTW_BACKWARD',threads=threads)\n",
      "RuntimeError: Undefined plan with nthreads. This is a bug\n"
     ]
    },
    {
     "ename": "RuntimeError",
     "evalue": "Undefined plan with nthreads. This is a bug",
     "output_type": "error",
     "traceback": [
      "\u001b[0;31m---------------------------------------------------------------------------\u001b[0m",
      "\u001b[0;31mRuntimeError\u001b[0m                              Traceback (most recent call last)",
      "\u001b[0;31mRuntimeError\u001b[0m: Undefined plan with nthreads. This is a bug"
     ]
    },
    {
     "name": "stderr",
     "output_type": "stream",
     "text": [
      "Exception ignored in: 'pyfftw.pyfftw._fftw_plan_with_nthreads_null'\n",
      "Traceback (most recent call last):\n",
      "  File \"/global/homes/a/ab2368/.conda/envs/varying_dndz/lib/python3.9/site-packages/velocileptors/Utils/spherical_bessel_transform_fftw.py\", line 64, in __init__\n",
      "    self.fft_object = pyfftw.FFTW(self.fs, self.fks, direction='FFTW_FORWARD',threads=threads)\n",
      "RuntimeError: Undefined plan with nthreads. This is a bug\n"
     ]
    },
    {
     "ename": "RuntimeError",
     "evalue": "Undefined plan with nthreads. This is a bug",
     "output_type": "error",
     "traceback": [
      "\u001b[0;31m---------------------------------------------------------------------------\u001b[0m",
      "\u001b[0;31mRuntimeError\u001b[0m                              Traceback (most recent call last)",
      "\u001b[0;31mRuntimeError\u001b[0m: Undefined plan with nthreads. This is a bug"
     ]
    },
    {
     "name": "stderr",
     "output_type": "stream",
     "text": [
      "Exception ignored in: 'pyfftw.pyfftw._fftw_plan_with_nthreads_null'\n",
      "Traceback (most recent call last):\n",
      "  File \"/global/homes/a/ab2368/.conda/envs/varying_dndz/lib/python3.9/site-packages/velocileptors/Utils/spherical_bessel_transform_fftw.py\", line 65, in __init__\n",
      "    self.ifft_object = pyfftw.FFTW(self.gks, self.gs, direction='FFTW_BACKWARD',threads=threads)\n",
      "RuntimeError: Undefined plan with nthreads. This is a bug\n"
     ]
    },
    {
     "ename": "RuntimeError",
     "evalue": "Undefined plan with nthreads. This is a bug",
     "output_type": "error",
     "traceback": [
      "\u001b[0;31m---------------------------------------------------------------------------\u001b[0m",
      "\u001b[0;31mRuntimeError\u001b[0m                              Traceback (most recent call last)",
      "\u001b[0;31mRuntimeError\u001b[0m: Undefined plan with nthreads. This is a bug"
     ]
    },
    {
     "name": "stderr",
     "output_type": "stream",
     "text": [
      "Exception ignored in: 'pyfftw.pyfftw._fftw_plan_with_nthreads_null'\n",
      "Traceback (most recent call last):\n",
      "  File \"/global/homes/a/ab2368/.conda/envs/varying_dndz/lib/python3.9/site-packages/velocileptors/Utils/spherical_bessel_transform_fftw.py\", line 64, in __init__\n",
      "    self.fft_object = pyfftw.FFTW(self.fs, self.fks, direction='FFTW_FORWARD',threads=threads)\n",
      "RuntimeError: Undefined plan with nthreads. This is a bug\n"
     ]
    },
    {
     "ename": "RuntimeError",
     "evalue": "Undefined plan with nthreads. This is a bug",
     "output_type": "error",
     "traceback": [
      "\u001b[0;31m---------------------------------------------------------------------------\u001b[0m",
      "\u001b[0;31mRuntimeError\u001b[0m                              Traceback (most recent call last)",
      "\u001b[0;31mRuntimeError\u001b[0m: Undefined plan with nthreads. This is a bug"
     ]
    },
    {
     "name": "stderr",
     "output_type": "stream",
     "text": [
      "Exception ignored in: 'pyfftw.pyfftw._fftw_plan_with_nthreads_null'\n",
      "Traceback (most recent call last):\n",
      "  File \"/global/homes/a/ab2368/.conda/envs/varying_dndz/lib/python3.9/site-packages/velocileptors/Utils/spherical_bessel_transform_fftw.py\", line 65, in __init__\n",
      "    self.ifft_object = pyfftw.FFTW(self.gks, self.gs, direction='FFTW_BACKWARD',threads=threads)\n",
      "RuntimeError: Undefined plan with nthreads. This is a bug\n"
     ]
    },
    {
     "ename": "RuntimeError",
     "evalue": "Undefined plan with nthreads. This is a bug",
     "output_type": "error",
     "traceback": [
      "\u001b[0;31m---------------------------------------------------------------------------\u001b[0m",
      "\u001b[0;31mRuntimeError\u001b[0m                              Traceback (most recent call last)",
      "\u001b[0;31mRuntimeError\u001b[0m: Undefined plan with nthreads. This is a bug"
     ]
    },
    {
     "name": "stderr",
     "output_type": "stream",
     "text": [
      "Exception ignored in: 'pyfftw.pyfftw._fftw_plan_with_nthreads_null'\n",
      "Traceback (most recent call last):\n",
      "  File \"/global/homes/a/ab2368/.conda/envs/varying_dndz/lib/python3.9/site-packages/velocileptors/Utils/spherical_bessel_transform_fftw.py\", line 64, in __init__\n",
      "    self.fft_object = pyfftw.FFTW(self.fs, self.fks, direction='FFTW_FORWARD',threads=threads)\n",
      "RuntimeError: Undefined plan with nthreads. This is a bug\n"
     ]
    },
    {
     "ename": "RuntimeError",
     "evalue": "Undefined plan with nthreads. This is a bug",
     "output_type": "error",
     "traceback": [
      "\u001b[0;31m---------------------------------------------------------------------------\u001b[0m",
      "\u001b[0;31mRuntimeError\u001b[0m                              Traceback (most recent call last)",
      "\u001b[0;31mRuntimeError\u001b[0m: Undefined plan with nthreads. This is a bug"
     ]
    },
    {
     "name": "stderr",
     "output_type": "stream",
     "text": [
      "Exception ignored in: 'pyfftw.pyfftw._fftw_plan_with_nthreads_null'\n",
      "Traceback (most recent call last):\n",
      "  File \"/global/homes/a/ab2368/.conda/envs/varying_dndz/lib/python3.9/site-packages/velocileptors/Utils/spherical_bessel_transform_fftw.py\", line 65, in __init__\n",
      "    self.ifft_object = pyfftw.FFTW(self.gks, self.gs, direction='FFTW_BACKWARD',threads=threads)\n",
      "RuntimeError: Undefined plan with nthreads. This is a bug\n"
     ]
    },
    {
     "ename": "RuntimeError",
     "evalue": "Undefined plan with nthreads. This is a bug",
     "output_type": "error",
     "traceback": [
      "\u001b[0;31m---------------------------------------------------------------------------\u001b[0m",
      "\u001b[0;31mRuntimeError\u001b[0m                              Traceback (most recent call last)",
      "\u001b[0;31mRuntimeError\u001b[0m: Undefined plan with nthreads. This is a bug"
     ]
    },
    {
     "name": "stderr",
     "output_type": "stream",
     "text": [
      "Exception ignored in: 'pyfftw.pyfftw._fftw_plan_with_nthreads_null'\n",
      "Traceback (most recent call last):\n",
      "  File \"/global/homes/a/ab2368/.conda/envs/varying_dndz/lib/python3.9/site-packages/velocileptors/Utils/spherical_bessel_transform_fftw.py\", line 64, in __init__\n",
      "    self.fft_object = pyfftw.FFTW(self.fs, self.fks, direction='FFTW_FORWARD',threads=threads)\n",
      "RuntimeError: Undefined plan with nthreads. This is a bug\n"
     ]
    },
    {
     "ename": "RuntimeError",
     "evalue": "Undefined plan with nthreads. This is a bug",
     "output_type": "error",
     "traceback": [
      "\u001b[0;31m---------------------------------------------------------------------------\u001b[0m",
      "\u001b[0;31mRuntimeError\u001b[0m                              Traceback (most recent call last)",
      "\u001b[0;31mRuntimeError\u001b[0m: Undefined plan with nthreads. This is a bug"
     ]
    },
    {
     "name": "stderr",
     "output_type": "stream",
     "text": [
      "Exception ignored in: 'pyfftw.pyfftw._fftw_plan_with_nthreads_null'\n",
      "Traceback (most recent call last):\n",
      "  File \"/global/homes/a/ab2368/.conda/envs/varying_dndz/lib/python3.9/site-packages/velocileptors/Utils/spherical_bessel_transform_fftw.py\", line 65, in __init__\n",
      "    self.ifft_object = pyfftw.FFTW(self.gks, self.gs, direction='FFTW_BACKWARD',threads=threads)\n",
      "RuntimeError: Undefined plan with nthreads. This is a bug\n"
     ]
    },
    {
     "ename": "RuntimeError",
     "evalue": "Undefined plan with nthreads. This is a bug",
     "output_type": "error",
     "traceback": [
      "\u001b[0;31m---------------------------------------------------------------------------\u001b[0m",
      "\u001b[0;31mRuntimeError\u001b[0m                              Traceback (most recent call last)",
      "\u001b[0;31mRuntimeError\u001b[0m: Undefined plan with nthreads. This is a bug"
     ]
    },
    {
     "name": "stderr",
     "output_type": "stream",
     "text": [
      "Exception ignored in: 'pyfftw.pyfftw._fftw_plan_with_nthreads_null'\n",
      "Traceback (most recent call last):\n",
      "  File \"/global/homes/a/ab2368/.conda/envs/varying_dndz/lib/python3.9/site-packages/velocileptors/Utils/spherical_bessel_transform_fftw.py\", line 64, in __init__\n",
      "    self.fft_object = pyfftw.FFTW(self.fs, self.fks, direction='FFTW_FORWARD',threads=threads)\n",
      "RuntimeError: Undefined plan with nthreads. This is a bug\n"
     ]
    },
    {
     "ename": "RuntimeError",
     "evalue": "Undefined plan with nthreads. This is a bug",
     "output_type": "error",
     "traceback": [
      "\u001b[0;31m---------------------------------------------------------------------------\u001b[0m",
      "\u001b[0;31mRuntimeError\u001b[0m                              Traceback (most recent call last)",
      "\u001b[0;31mRuntimeError\u001b[0m: Undefined plan with nthreads. This is a bug"
     ]
    },
    {
     "name": "stderr",
     "output_type": "stream",
     "text": [
      "Exception ignored in: 'pyfftw.pyfftw._fftw_plan_with_nthreads_null'\n",
      "Traceback (most recent call last):\n",
      "  File \"/global/homes/a/ab2368/.conda/envs/varying_dndz/lib/python3.9/site-packages/velocileptors/Utils/spherical_bessel_transform_fftw.py\", line 65, in __init__\n",
      "    self.ifft_object = pyfftw.FFTW(self.gks, self.gs, direction='FFTW_BACKWARD',threads=threads)\n",
      "RuntimeError: Undefined plan with nthreads. This is a bug\n"
     ]
    },
    {
     "ename": "RuntimeError",
     "evalue": "Undefined plan with nthreads. This is a bug",
     "output_type": "error",
     "traceback": [
      "\u001b[0;31m---------------------------------------------------------------------------\u001b[0m",
      "\u001b[0;31mRuntimeError\u001b[0m                              Traceback (most recent call last)",
      "\u001b[0;31mRuntimeError\u001b[0m: Undefined plan with nthreads. This is a bug"
     ]
    },
    {
     "name": "stderr",
     "output_type": "stream",
     "text": [
      "Exception ignored in: 'pyfftw.pyfftw._fftw_plan_with_nthreads_null'\n",
      "Traceback (most recent call last):\n",
      "  File \"/global/homes/a/ab2368/.conda/envs/varying_dndz/lib/python3.9/site-packages/velocileptors/Utils/spherical_bessel_transform_fftw.py\", line 64, in __init__\n",
      "    self.fft_object = pyfftw.FFTW(self.fs, self.fks, direction='FFTW_FORWARD',threads=threads)\n",
      "RuntimeError: Undefined plan with nthreads. This is a bug\n"
     ]
    },
    {
     "ename": "RuntimeError",
     "evalue": "Undefined plan with nthreads. This is a bug",
     "output_type": "error",
     "traceback": [
      "\u001b[0;31m---------------------------------------------------------------------------\u001b[0m",
      "\u001b[0;31mRuntimeError\u001b[0m                              Traceback (most recent call last)",
      "\u001b[0;31mRuntimeError\u001b[0m: Undefined plan with nthreads. This is a bug"
     ]
    },
    {
     "name": "stderr",
     "output_type": "stream",
     "text": [
      "Exception ignored in: 'pyfftw.pyfftw._fftw_plan_with_nthreads_null'\n",
      "Traceback (most recent call last):\n",
      "  File \"/global/homes/a/ab2368/.conda/envs/varying_dndz/lib/python3.9/site-packages/velocileptors/Utils/spherical_bessel_transform_fftw.py\", line 65, in __init__\n",
      "    self.ifft_object = pyfftw.FFTW(self.gks, self.gs, direction='FFTW_BACKWARD',threads=threads)\n",
      "RuntimeError: Undefined plan with nthreads. This is a bug\n"
     ]
    },
    {
     "ename": "RuntimeError",
     "evalue": "Undefined plan with nthreads. This is a bug",
     "output_type": "error",
     "traceback": [
      "\u001b[0;31m---------------------------------------------------------------------------\u001b[0m",
      "\u001b[0;31mRuntimeError\u001b[0m                              Traceback (most recent call last)",
      "\u001b[0;31mRuntimeError\u001b[0m: Undefined plan with nthreads. This is a bug"
     ]
    },
    {
     "name": "stderr",
     "output_type": "stream",
     "text": [
      "Exception ignored in: 'pyfftw.pyfftw._fftw_plan_with_nthreads_null'\n",
      "Traceback (most recent call last):\n",
      "  File \"/global/homes/a/ab2368/.conda/envs/varying_dndz/lib/python3.9/site-packages/velocileptors/Utils/spherical_bessel_transform_fftw.py\", line 64, in __init__\n",
      "    self.fft_object = pyfftw.FFTW(self.fs, self.fks, direction='FFTW_FORWARD',threads=threads)\n",
      "RuntimeError: Undefined plan with nthreads. This is a bug\n"
     ]
    },
    {
     "ename": "RuntimeError",
     "evalue": "Undefined plan with nthreads. This is a bug",
     "output_type": "error",
     "traceback": [
      "\u001b[0;31m---------------------------------------------------------------------------\u001b[0m",
      "\u001b[0;31mRuntimeError\u001b[0m                              Traceback (most recent call last)",
      "\u001b[0;31mRuntimeError\u001b[0m: Undefined plan with nthreads. This is a bug"
     ]
    },
    {
     "name": "stderr",
     "output_type": "stream",
     "text": [
      "Exception ignored in: 'pyfftw.pyfftw._fftw_plan_with_nthreads_null'\n",
      "Traceback (most recent call last):\n",
      "  File \"/global/homes/a/ab2368/.conda/envs/varying_dndz/lib/python3.9/site-packages/velocileptors/Utils/spherical_bessel_transform_fftw.py\", line 65, in __init__\n",
      "    self.ifft_object = pyfftw.FFTW(self.gks, self.gs, direction='FFTW_BACKWARD',threads=threads)\n",
      "RuntimeError: Undefined plan with nthreads. This is a bug\n"
     ]
    },
    {
     "ename": "RuntimeError",
     "evalue": "Undefined plan with nthreads. This is a bug",
     "output_type": "error",
     "traceback": [
      "\u001b[0;31m---------------------------------------------------------------------------\u001b[0m",
      "\u001b[0;31mRuntimeError\u001b[0m                              Traceback (most recent call last)",
      "\u001b[0;31mRuntimeError\u001b[0m: Undefined plan with nthreads. This is a bug"
     ]
    },
    {
     "name": "stderr",
     "output_type": "stream",
     "text": [
      "Exception ignored in: 'pyfftw.pyfftw._fftw_plan_with_nthreads_null'\n",
      "Traceback (most recent call last):\n",
      "  File \"/global/homes/a/ab2368/.conda/envs/varying_dndz/lib/python3.9/site-packages/velocileptors/Utils/spherical_bessel_transform_fftw.py\", line 64, in __init__\n",
      "    self.fft_object = pyfftw.FFTW(self.fs, self.fks, direction='FFTW_FORWARD',threads=threads)\n",
      "RuntimeError: Undefined plan with nthreads. This is a bug\n"
     ]
    },
    {
     "ename": "RuntimeError",
     "evalue": "Undefined plan with nthreads. This is a bug",
     "output_type": "error",
     "traceback": [
      "\u001b[0;31m---------------------------------------------------------------------------\u001b[0m",
      "\u001b[0;31mRuntimeError\u001b[0m                              Traceback (most recent call last)",
      "\u001b[0;31mRuntimeError\u001b[0m: Undefined plan with nthreads. This is a bug"
     ]
    },
    {
     "name": "stderr",
     "output_type": "stream",
     "text": [
      "Exception ignored in: 'pyfftw.pyfftw._fftw_plan_with_nthreads_null'\n",
      "Traceback (most recent call last):\n",
      "  File \"/global/homes/a/ab2368/.conda/envs/varying_dndz/lib/python3.9/site-packages/velocileptors/Utils/spherical_bessel_transform_fftw.py\", line 65, in __init__\n",
      "    self.ifft_object = pyfftw.FFTW(self.gks, self.gs, direction='FFTW_BACKWARD',threads=threads)\n",
      "RuntimeError: Undefined plan with nthreads. This is a bug\n"
     ]
    },
    {
     "ename": "RuntimeError",
     "evalue": "Undefined plan with nthreads. This is a bug",
     "output_type": "error",
     "traceback": [
      "\u001b[0;31m---------------------------------------------------------------------------\u001b[0m",
      "\u001b[0;31mRuntimeError\u001b[0m                              Traceback (most recent call last)",
      "\u001b[0;31mRuntimeError\u001b[0m: Undefined plan with nthreads. This is a bug"
     ]
    },
    {
     "name": "stderr",
     "output_type": "stream",
     "text": [
      "Exception ignored in: 'pyfftw.pyfftw._fftw_plan_with_nthreads_null'\n",
      "Traceback (most recent call last):\n",
      "  File \"/global/homes/a/ab2368/.conda/envs/varying_dndz/lib/python3.9/site-packages/velocileptors/Utils/spherical_bessel_transform_fftw.py\", line 64, in __init__\n",
      "    self.fft_object = pyfftw.FFTW(self.fs, self.fks, direction='FFTW_FORWARD',threads=threads)\n",
      "RuntimeError: Undefined plan with nthreads. This is a bug\n"
     ]
    },
    {
     "ename": "RuntimeError",
     "evalue": "Undefined plan with nthreads. This is a bug",
     "output_type": "error",
     "traceback": [
      "\u001b[0;31m---------------------------------------------------------------------------\u001b[0m",
      "\u001b[0;31mRuntimeError\u001b[0m                              Traceback (most recent call last)",
      "\u001b[0;31mRuntimeError\u001b[0m: Undefined plan with nthreads. This is a bug"
     ]
    },
    {
     "name": "stderr",
     "output_type": "stream",
     "text": [
      "Exception ignored in: 'pyfftw.pyfftw._fftw_plan_with_nthreads_null'\n",
      "Traceback (most recent call last):\n",
      "  File \"/global/homes/a/ab2368/.conda/envs/varying_dndz/lib/python3.9/site-packages/velocileptors/Utils/spherical_bessel_transform_fftw.py\", line 65, in __init__\n",
      "    self.ifft_object = pyfftw.FFTW(self.gks, self.gs, direction='FFTW_BACKWARD',threads=threads)\n",
      "RuntimeError: Undefined plan with nthreads. This is a bug\n"
     ]
    },
    {
     "ename": "RuntimeError",
     "evalue": "Undefined plan with nthreads. This is a bug",
     "output_type": "error",
     "traceback": [
      "\u001b[0;31m---------------------------------------------------------------------------\u001b[0m",
      "\u001b[0;31mRuntimeError\u001b[0m                              Traceback (most recent call last)",
      "\u001b[0;31mRuntimeError\u001b[0m: Undefined plan with nthreads. This is a bug"
     ]
    },
    {
     "name": "stderr",
     "output_type": "stream",
     "text": [
      "Exception ignored in: 'pyfftw.pyfftw._fftw_plan_with_nthreads_null'\n",
      "Traceback (most recent call last):\n",
      "  File \"/global/homes/a/ab2368/.conda/envs/varying_dndz/lib/python3.9/site-packages/velocileptors/Utils/spherical_bessel_transform_fftw.py\", line 64, in __init__\n",
      "    self.fft_object = pyfftw.FFTW(self.fs, self.fks, direction='FFTW_FORWARD',threads=threads)\n",
      "RuntimeError: Undefined plan with nthreads. This is a bug\n"
     ]
    },
    {
     "ename": "RuntimeError",
     "evalue": "Undefined plan with nthreads. This is a bug",
     "output_type": "error",
     "traceback": [
      "\u001b[0;31m---------------------------------------------------------------------------\u001b[0m",
      "\u001b[0;31mRuntimeError\u001b[0m                              Traceback (most recent call last)",
      "\u001b[0;31mRuntimeError\u001b[0m: Undefined plan with nthreads. This is a bug"
     ]
    },
    {
     "name": "stderr",
     "output_type": "stream",
     "text": [
      "Exception ignored in: 'pyfftw.pyfftw._fftw_plan_with_nthreads_null'\n",
      "Traceback (most recent call last):\n",
      "  File \"/global/homes/a/ab2368/.conda/envs/varying_dndz/lib/python3.9/site-packages/velocileptors/Utils/spherical_bessel_transform_fftw.py\", line 65, in __init__\n",
      "    self.ifft_object = pyfftw.FFTW(self.gks, self.gs, direction='FFTW_BACKWARD',threads=threads)\n",
      "RuntimeError: Undefined plan with nthreads. This is a bug\n"
     ]
    },
    {
     "ename": "RuntimeError",
     "evalue": "Undefined plan with nthreads. This is a bug",
     "output_type": "error",
     "traceback": [
      "\u001b[0;31m---------------------------------------------------------------------------\u001b[0m",
      "\u001b[0;31mRuntimeError\u001b[0m                              Traceback (most recent call last)",
      "\u001b[0;31mRuntimeError\u001b[0m: Undefined plan with nthreads. This is a bug"
     ]
    },
    {
     "name": "stderr",
     "output_type": "stream",
     "text": [
      "Exception ignored in: 'pyfftw.pyfftw._fftw_plan_with_nthreads_null'\n",
      "Traceback (most recent call last):\n",
      "  File \"/global/homes/a/ab2368/.conda/envs/varying_dndz/lib/python3.9/site-packages/velocileptors/Utils/spherical_bessel_transform_fftw.py\", line 64, in __init__\n",
      "    self.fft_object = pyfftw.FFTW(self.fs, self.fks, direction='FFTW_FORWARD',threads=threads)\n",
      "RuntimeError: Undefined plan with nthreads. This is a bug\n"
     ]
    },
    {
     "ename": "RuntimeError",
     "evalue": "Undefined plan with nthreads. This is a bug",
     "output_type": "error",
     "traceback": [
      "\u001b[0;31m---------------------------------------------------------------------------\u001b[0m",
      "\u001b[0;31mRuntimeError\u001b[0m                              Traceback (most recent call last)",
      "\u001b[0;31mRuntimeError\u001b[0m: Undefined plan with nthreads. This is a bug"
     ]
    },
    {
     "name": "stderr",
     "output_type": "stream",
     "text": [
      "Exception ignored in: 'pyfftw.pyfftw._fftw_plan_with_nthreads_null'\n",
      "Traceback (most recent call last):\n",
      "  File \"/global/homes/a/ab2368/.conda/envs/varying_dndz/lib/python3.9/site-packages/velocileptors/Utils/spherical_bessel_transform_fftw.py\", line 65, in __init__\n",
      "    self.ifft_object = pyfftw.FFTW(self.gks, self.gs, direction='FFTW_BACKWARD',threads=threads)\n",
      "RuntimeError: Undefined plan with nthreads. This is a bug\n"
     ]
    },
    {
     "ename": "RuntimeError",
     "evalue": "Undefined plan with nthreads. This is a bug",
     "output_type": "error",
     "traceback": [
      "\u001b[0;31m---------------------------------------------------------------------------\u001b[0m",
      "\u001b[0;31mRuntimeError\u001b[0m                              Traceback (most recent call last)",
      "\u001b[0;31mRuntimeError\u001b[0m: Undefined plan with nthreads. This is a bug"
     ]
    },
    {
     "name": "stderr",
     "output_type": "stream",
     "text": [
      "Exception ignored in: 'pyfftw.pyfftw._fftw_plan_with_nthreads_null'\n",
      "Traceback (most recent call last):\n",
      "  File \"/global/homes/a/ab2368/.conda/envs/varying_dndz/lib/python3.9/site-packages/velocileptors/Utils/spherical_bessel_transform_fftw.py\", line 64, in __init__\n",
      "    self.fft_object = pyfftw.FFTW(self.fs, self.fks, direction='FFTW_FORWARD',threads=threads)\n",
      "RuntimeError: Undefined plan with nthreads. This is a bug\n"
     ]
    },
    {
     "ename": "RuntimeError",
     "evalue": "Undefined plan with nthreads. This is a bug",
     "output_type": "error",
     "traceback": [
      "\u001b[0;31m---------------------------------------------------------------------------\u001b[0m",
      "\u001b[0;31mRuntimeError\u001b[0m                              Traceback (most recent call last)",
      "\u001b[0;31mRuntimeError\u001b[0m: Undefined plan with nthreads. This is a bug"
     ]
    },
    {
     "name": "stderr",
     "output_type": "stream",
     "text": [
      "Exception ignored in: 'pyfftw.pyfftw._fftw_plan_with_nthreads_null'\n",
      "Traceback (most recent call last):\n",
      "  File \"/global/homes/a/ab2368/.conda/envs/varying_dndz/lib/python3.9/site-packages/velocileptors/Utils/spherical_bessel_transform_fftw.py\", line 65, in __init__\n",
      "    self.ifft_object = pyfftw.FFTW(self.gks, self.gs, direction='FFTW_BACKWARD',threads=threads)\n",
      "RuntimeError: Undefined plan with nthreads. This is a bug\n"
     ]
    },
    {
     "ename": "RuntimeError",
     "evalue": "Undefined plan with nthreads. This is a bug",
     "output_type": "error",
     "traceback": [
      "\u001b[0;31m---------------------------------------------------------------------------\u001b[0m",
      "\u001b[0;31mRuntimeError\u001b[0m                              Traceback (most recent call last)",
      "\u001b[0;31mRuntimeError\u001b[0m: Undefined plan with nthreads. This is a bug"
     ]
    },
    {
     "name": "stderr",
     "output_type": "stream",
     "text": [
      "Exception ignored in: 'pyfftw.pyfftw._fftw_plan_with_nthreads_null'\n",
      "Traceback (most recent call last):\n",
      "  File \"/global/homes/a/ab2368/.conda/envs/varying_dndz/lib/python3.9/site-packages/velocileptors/Utils/spherical_bessel_transform_fftw.py\", line 64, in __init__\n",
      "    self.fft_object = pyfftw.FFTW(self.fs, self.fks, direction='FFTW_FORWARD',threads=threads)\n",
      "RuntimeError: Undefined plan with nthreads. This is a bug\n"
     ]
    },
    {
     "ename": "RuntimeError",
     "evalue": "Undefined plan with nthreads. This is a bug",
     "output_type": "error",
     "traceback": [
      "\u001b[0;31m---------------------------------------------------------------------------\u001b[0m",
      "\u001b[0;31mRuntimeError\u001b[0m                              Traceback (most recent call last)",
      "\u001b[0;31mRuntimeError\u001b[0m: Undefined plan with nthreads. This is a bug"
     ]
    },
    {
     "name": "stderr",
     "output_type": "stream",
     "text": [
      "Exception ignored in: 'pyfftw.pyfftw._fftw_plan_with_nthreads_null'\n",
      "Traceback (most recent call last):\n",
      "  File \"/global/homes/a/ab2368/.conda/envs/varying_dndz/lib/python3.9/site-packages/velocileptors/Utils/spherical_bessel_transform_fftw.py\", line 65, in __init__\n",
      "    self.ifft_object = pyfftw.FFTW(self.gks, self.gs, direction='FFTW_BACKWARD',threads=threads)\n",
      "RuntimeError: Undefined plan with nthreads. This is a bug\n"
     ]
    },
    {
     "ename": "RuntimeError",
     "evalue": "Undefined plan with nthreads. This is a bug",
     "output_type": "error",
     "traceback": [
      "\u001b[0;31m---------------------------------------------------------------------------\u001b[0m",
      "\u001b[0;31mRuntimeError\u001b[0m                              Traceback (most recent call last)",
      "\u001b[0;31mRuntimeError\u001b[0m: Undefined plan with nthreads. This is a bug"
     ]
    },
    {
     "name": "stderr",
     "output_type": "stream",
     "text": [
      "Exception ignored in: 'pyfftw.pyfftw._fftw_plan_with_nthreads_null'\n",
      "Traceback (most recent call last):\n",
      "  File \"/global/homes/a/ab2368/.conda/envs/varying_dndz/lib/python3.9/site-packages/velocileptors/Utils/spherical_bessel_transform_fftw.py\", line 64, in __init__\n",
      "    self.fft_object = pyfftw.FFTW(self.fs, self.fks, direction='FFTW_FORWARD',threads=threads)\n",
      "RuntimeError: Undefined plan with nthreads. This is a bug\n"
     ]
    },
    {
     "ename": "RuntimeError",
     "evalue": "Undefined plan with nthreads. This is a bug",
     "output_type": "error",
     "traceback": [
      "\u001b[0;31m---------------------------------------------------------------------------\u001b[0m",
      "\u001b[0;31mRuntimeError\u001b[0m                              Traceback (most recent call last)",
      "\u001b[0;31mRuntimeError\u001b[0m: Undefined plan with nthreads. This is a bug"
     ]
    },
    {
     "name": "stderr",
     "output_type": "stream",
     "text": [
      "Exception ignored in: 'pyfftw.pyfftw._fftw_plan_with_nthreads_null'\n",
      "Traceback (most recent call last):\n",
      "  File \"/global/homes/a/ab2368/.conda/envs/varying_dndz/lib/python3.9/site-packages/velocileptors/Utils/spherical_bessel_transform_fftw.py\", line 65, in __init__\n",
      "    self.ifft_object = pyfftw.FFTW(self.gks, self.gs, direction='FFTW_BACKWARD',threads=threads)\n",
      "RuntimeError: Undefined plan with nthreads. This is a bug\n"
     ]
    },
    {
     "ename": "RuntimeError",
     "evalue": "Undefined plan with nthreads. This is a bug",
     "output_type": "error",
     "traceback": [
      "\u001b[0;31m---------------------------------------------------------------------------\u001b[0m",
      "\u001b[0;31mRuntimeError\u001b[0m                              Traceback (most recent call last)",
      "\u001b[0;31mRuntimeError\u001b[0m: Undefined plan with nthreads. This is a bug"
     ]
    },
    {
     "name": "stderr",
     "output_type": "stream",
     "text": [
      "Exception ignored in: 'pyfftw.pyfftw._fftw_plan_with_nthreads_null'\n",
      "Traceback (most recent call last):\n",
      "  File \"/global/homes/a/ab2368/.conda/envs/varying_dndz/lib/python3.9/site-packages/velocileptors/Utils/spherical_bessel_transform_fftw.py\", line 64, in __init__\n",
      "    self.fft_object = pyfftw.FFTW(self.fs, self.fks, direction='FFTW_FORWARD',threads=threads)\n",
      "RuntimeError: Undefined plan with nthreads. This is a bug\n"
     ]
    },
    {
     "ename": "RuntimeError",
     "evalue": "Undefined plan with nthreads. This is a bug",
     "output_type": "error",
     "traceback": [
      "\u001b[0;31m---------------------------------------------------------------------------\u001b[0m",
      "\u001b[0;31mRuntimeError\u001b[0m                              Traceback (most recent call last)",
      "\u001b[0;31mRuntimeError\u001b[0m: Undefined plan with nthreads. This is a bug"
     ]
    },
    {
     "name": "stderr",
     "output_type": "stream",
     "text": [
      "Exception ignored in: 'pyfftw.pyfftw._fftw_plan_with_nthreads_null'\n",
      "Traceback (most recent call last):\n",
      "  File \"/global/homes/a/ab2368/.conda/envs/varying_dndz/lib/python3.9/site-packages/velocileptors/Utils/spherical_bessel_transform_fftw.py\", line 65, in __init__\n",
      "    self.ifft_object = pyfftw.FFTW(self.gks, self.gs, direction='FFTW_BACKWARD',threads=threads)\n",
      "RuntimeError: Undefined plan with nthreads. This is a bug\n"
     ]
    },
    {
     "ename": "RuntimeError",
     "evalue": "Undefined plan with nthreads. This is a bug",
     "output_type": "error",
     "traceback": [
      "\u001b[0;31m---------------------------------------------------------------------------\u001b[0m",
      "\u001b[0;31mRuntimeError\u001b[0m                              Traceback (most recent call last)",
      "\u001b[0;31mRuntimeError\u001b[0m: Undefined plan with nthreads. This is a bug"
     ]
    },
    {
     "name": "stderr",
     "output_type": "stream",
     "text": [
      "Exception ignored in: 'pyfftw.pyfftw._fftw_plan_with_nthreads_null'\n",
      "Traceback (most recent call last):\n",
      "  File \"/global/homes/a/ab2368/.conda/envs/varying_dndz/lib/python3.9/site-packages/velocileptors/Utils/spherical_bessel_transform_fftw.py\", line 64, in __init__\n",
      "    self.fft_object = pyfftw.FFTW(self.fs, self.fks, direction='FFTW_FORWARD',threads=threads)\n",
      "RuntimeError: Undefined plan with nthreads. This is a bug\n"
     ]
    },
    {
     "ename": "RuntimeError",
     "evalue": "Undefined plan with nthreads. This is a bug",
     "output_type": "error",
     "traceback": [
      "\u001b[0;31m---------------------------------------------------------------------------\u001b[0m",
      "\u001b[0;31mRuntimeError\u001b[0m                              Traceback (most recent call last)",
      "\u001b[0;31mRuntimeError\u001b[0m: Undefined plan with nthreads. This is a bug"
     ]
    },
    {
     "name": "stderr",
     "output_type": "stream",
     "text": [
      "Exception ignored in: 'pyfftw.pyfftw._fftw_plan_with_nthreads_null'\n",
      "Traceback (most recent call last):\n",
      "  File \"/global/homes/a/ab2368/.conda/envs/varying_dndz/lib/python3.9/site-packages/velocileptors/Utils/spherical_bessel_transform_fftw.py\", line 65, in __init__\n",
      "    self.ifft_object = pyfftw.FFTW(self.gks, self.gs, direction='FFTW_BACKWARD',threads=threads)\n",
      "RuntimeError: Undefined plan with nthreads. This is a bug\n"
     ]
    },
    {
     "ename": "RuntimeError",
     "evalue": "Undefined plan with nthreads. This is a bug",
     "output_type": "error",
     "traceback": [
      "\u001b[0;31m---------------------------------------------------------------------------\u001b[0m",
      "\u001b[0;31mRuntimeError\u001b[0m                              Traceback (most recent call last)",
      "\u001b[0;31mRuntimeError\u001b[0m: Undefined plan with nthreads. This is a bug"
     ]
    },
    {
     "name": "stderr",
     "output_type": "stream",
     "text": [
      "Exception ignored in: 'pyfftw.pyfftw._fftw_plan_with_nthreads_null'\n",
      "Traceback (most recent call last):\n",
      "  File \"/global/homes/a/ab2368/.conda/envs/varying_dndz/lib/python3.9/site-packages/velocileptors/Utils/spherical_bessel_transform_fftw.py\", line 64, in __init__\n",
      "    self.fft_object = pyfftw.FFTW(self.fs, self.fks, direction='FFTW_FORWARD',threads=threads)\n",
      "RuntimeError: Undefined plan with nthreads. This is a bug\n"
     ]
    },
    {
     "ename": "RuntimeError",
     "evalue": "Undefined plan with nthreads. This is a bug",
     "output_type": "error",
     "traceback": [
      "\u001b[0;31m---------------------------------------------------------------------------\u001b[0m",
      "\u001b[0;31mRuntimeError\u001b[0m                              Traceback (most recent call last)",
      "\u001b[0;31mRuntimeError\u001b[0m: Undefined plan with nthreads. This is a bug"
     ]
    },
    {
     "name": "stderr",
     "output_type": "stream",
     "text": [
      "Exception ignored in: 'pyfftw.pyfftw._fftw_plan_with_nthreads_null'\n",
      "Traceback (most recent call last):\n",
      "  File \"/global/homes/a/ab2368/.conda/envs/varying_dndz/lib/python3.9/site-packages/velocileptors/Utils/spherical_bessel_transform_fftw.py\", line 65, in __init__\n",
      "    self.ifft_object = pyfftw.FFTW(self.gks, self.gs, direction='FFTW_BACKWARD',threads=threads)\n",
      "RuntimeError: Undefined plan with nthreads. This is a bug\n"
     ]
    },
    {
     "ename": "RuntimeError",
     "evalue": "Undefined plan with nthreads. This is a bug",
     "output_type": "error",
     "traceback": [
      "\u001b[0;31m---------------------------------------------------------------------------\u001b[0m",
      "\u001b[0;31mRuntimeError\u001b[0m                              Traceback (most recent call last)",
      "\u001b[0;31mRuntimeError\u001b[0m: Undefined plan with nthreads. This is a bug"
     ]
    },
    {
     "name": "stderr",
     "output_type": "stream",
     "text": [
      "Exception ignored in: 'pyfftw.pyfftw._fftw_plan_with_nthreads_null'\n",
      "Traceback (most recent call last):\n",
      "  File \"/global/homes/a/ab2368/.conda/envs/varying_dndz/lib/python3.9/site-packages/velocileptors/Utils/spherical_bessel_transform_fftw.py\", line 64, in __init__\n",
      "    self.fft_object = pyfftw.FFTW(self.fs, self.fks, direction='FFTW_FORWARD',threads=threads)\n",
      "RuntimeError: Undefined plan with nthreads. This is a bug\n"
     ]
    },
    {
     "ename": "RuntimeError",
     "evalue": "Undefined plan with nthreads. This is a bug",
     "output_type": "error",
     "traceback": [
      "\u001b[0;31m---------------------------------------------------------------------------\u001b[0m",
      "\u001b[0;31mRuntimeError\u001b[0m                              Traceback (most recent call last)",
      "\u001b[0;31mRuntimeError\u001b[0m: Undefined plan with nthreads. This is a bug"
     ]
    },
    {
     "name": "stderr",
     "output_type": "stream",
     "text": [
      "Exception ignored in: 'pyfftw.pyfftw._fftw_plan_with_nthreads_null'\n",
      "Traceback (most recent call last):\n",
      "  File \"/global/homes/a/ab2368/.conda/envs/varying_dndz/lib/python3.9/site-packages/velocileptors/Utils/spherical_bessel_transform_fftw.py\", line 65, in __init__\n",
      "    self.ifft_object = pyfftw.FFTW(self.gks, self.gs, direction='FFTW_BACKWARD',threads=threads)\n",
      "RuntimeError: Undefined plan with nthreads. This is a bug\n"
     ]
    },
    {
     "ename": "RuntimeError",
     "evalue": "Undefined plan with nthreads. This is a bug",
     "output_type": "error",
     "traceback": [
      "\u001b[0;31m---------------------------------------------------------------------------\u001b[0m",
      "\u001b[0;31mRuntimeError\u001b[0m                              Traceback (most recent call last)",
      "\u001b[0;31mRuntimeError\u001b[0m: Undefined plan with nthreads. This is a bug"
     ]
    },
    {
     "name": "stderr",
     "output_type": "stream",
     "text": [
      "Exception ignored in: 'pyfftw.pyfftw._fftw_plan_with_nthreads_null'\n",
      "Traceback (most recent call last):\n",
      "  File \"/global/homes/a/ab2368/.conda/envs/varying_dndz/lib/python3.9/site-packages/velocileptors/Utils/spherical_bessel_transform_fftw.py\", line 64, in __init__\n",
      "    self.fft_object = pyfftw.FFTW(self.fs, self.fks, direction='FFTW_FORWARD',threads=threads)\n",
      "RuntimeError: Undefined plan with nthreads. This is a bug\n"
     ]
    },
    {
     "ename": "RuntimeError",
     "evalue": "Undefined plan with nthreads. This is a bug",
     "output_type": "error",
     "traceback": [
      "\u001b[0;31m---------------------------------------------------------------------------\u001b[0m",
      "\u001b[0;31mRuntimeError\u001b[0m                              Traceback (most recent call last)",
      "\u001b[0;31mRuntimeError\u001b[0m: Undefined plan with nthreads. This is a bug"
     ]
    },
    {
     "name": "stderr",
     "output_type": "stream",
     "text": [
      "Exception ignored in: 'pyfftw.pyfftw._fftw_plan_with_nthreads_null'\n",
      "Traceback (most recent call last):\n",
      "  File \"/global/homes/a/ab2368/.conda/envs/varying_dndz/lib/python3.9/site-packages/velocileptors/Utils/spherical_bessel_transform_fftw.py\", line 65, in __init__\n",
      "    self.ifft_object = pyfftw.FFTW(self.gks, self.gs, direction='FFTW_BACKWARD',threads=threads)\n",
      "RuntimeError: Undefined plan with nthreads. This is a bug\n"
     ]
    },
    {
     "ename": "RuntimeError",
     "evalue": "Undefined plan with nthreads. This is a bug",
     "output_type": "error",
     "traceback": [
      "\u001b[0;31m---------------------------------------------------------------------------\u001b[0m",
      "\u001b[0;31mRuntimeError\u001b[0m                              Traceback (most recent call last)",
      "\u001b[0;31mRuntimeError\u001b[0m: Undefined plan with nthreads. This is a bug"
     ]
    },
    {
     "name": "stderr",
     "output_type": "stream",
     "text": [
      "Exception ignored in: 'pyfftw.pyfftw._fftw_plan_with_nthreads_null'\n",
      "Traceback (most recent call last):\n",
      "  File \"/global/homes/a/ab2368/.conda/envs/varying_dndz/lib/python3.9/site-packages/velocileptors/Utils/spherical_bessel_transform_fftw.py\", line 64, in __init__\n",
      "    self.fft_object = pyfftw.FFTW(self.fs, self.fks, direction='FFTW_FORWARD',threads=threads)\n",
      "RuntimeError: Undefined plan with nthreads. This is a bug\n"
     ]
    },
    {
     "ename": "RuntimeError",
     "evalue": "Undefined plan with nthreads. This is a bug",
     "output_type": "error",
     "traceback": [
      "\u001b[0;31m---------------------------------------------------------------------------\u001b[0m",
      "\u001b[0;31mRuntimeError\u001b[0m                              Traceback (most recent call last)",
      "\u001b[0;31mRuntimeError\u001b[0m: Undefined plan with nthreads. This is a bug"
     ]
    },
    {
     "name": "stderr",
     "output_type": "stream",
     "text": [
      "Exception ignored in: 'pyfftw.pyfftw._fftw_plan_with_nthreads_null'\n",
      "Traceback (most recent call last):\n",
      "  File \"/global/homes/a/ab2368/.conda/envs/varying_dndz/lib/python3.9/site-packages/velocileptors/Utils/spherical_bessel_transform_fftw.py\", line 65, in __init__\n",
      "    self.ifft_object = pyfftw.FFTW(self.gks, self.gs, direction='FFTW_BACKWARD',threads=threads)\n",
      "RuntimeError: Undefined plan with nthreads. This is a bug\n"
     ]
    },
    {
     "ename": "RuntimeError",
     "evalue": "Undefined plan with nthreads. This is a bug",
     "output_type": "error",
     "traceback": [
      "\u001b[0;31m---------------------------------------------------------------------------\u001b[0m",
      "\u001b[0;31mRuntimeError\u001b[0m                              Traceback (most recent call last)",
      "\u001b[0;31mRuntimeError\u001b[0m: Undefined plan with nthreads. This is a bug"
     ]
    },
    {
     "name": "stderr",
     "output_type": "stream",
     "text": [
      "Exception ignored in: 'pyfftw.pyfftw._fftw_plan_with_nthreads_null'\n",
      "Traceback (most recent call last):\n",
      "  File \"/global/homes/a/ab2368/.conda/envs/varying_dndz/lib/python3.9/site-packages/velocileptors/Utils/spherical_bessel_transform_fftw.py\", line 64, in __init__\n",
      "    self.fft_object = pyfftw.FFTW(self.fs, self.fks, direction='FFTW_FORWARD',threads=threads)\n",
      "RuntimeError: Undefined plan with nthreads. This is a bug\n"
     ]
    },
    {
     "ename": "RuntimeError",
     "evalue": "Undefined plan with nthreads. This is a bug",
     "output_type": "error",
     "traceback": [
      "\u001b[0;31m---------------------------------------------------------------------------\u001b[0m",
      "\u001b[0;31mRuntimeError\u001b[0m                              Traceback (most recent call last)",
      "\u001b[0;31mRuntimeError\u001b[0m: Undefined plan with nthreads. This is a bug"
     ]
    },
    {
     "name": "stderr",
     "output_type": "stream",
     "text": [
      "Exception ignored in: 'pyfftw.pyfftw._fftw_plan_with_nthreads_null'\n",
      "Traceback (most recent call last):\n",
      "  File \"/global/homes/a/ab2368/.conda/envs/varying_dndz/lib/python3.9/site-packages/velocileptors/Utils/spherical_bessel_transform_fftw.py\", line 65, in __init__\n",
      "    self.ifft_object = pyfftw.FFTW(self.gks, self.gs, direction='FFTW_BACKWARD',threads=threads)\n",
      "RuntimeError: Undefined plan with nthreads. This is a bug\n"
     ]
    },
    {
     "ename": "RuntimeError",
     "evalue": "Undefined plan with nthreads. This is a bug",
     "output_type": "error",
     "traceback": [
      "\u001b[0;31m---------------------------------------------------------------------------\u001b[0m",
      "\u001b[0;31mRuntimeError\u001b[0m                              Traceback (most recent call last)",
      "\u001b[0;31mRuntimeError\u001b[0m: Undefined plan with nthreads. This is a bug"
     ]
    },
    {
     "name": "stderr",
     "output_type": "stream",
     "text": [
      "Exception ignored in: 'pyfftw.pyfftw._fftw_plan_with_nthreads_null'\n",
      "Traceback (most recent call last):\n",
      "  File \"/global/homes/a/ab2368/.conda/envs/varying_dndz/lib/python3.9/site-packages/velocileptors/Utils/spherical_bessel_transform_fftw.py\", line 64, in __init__\n",
      "    self.fft_object = pyfftw.FFTW(self.fs, self.fks, direction='FFTW_FORWARD',threads=threads)\n",
      "RuntimeError: Undefined plan with nthreads. This is a bug\n"
     ]
    },
    {
     "ename": "RuntimeError",
     "evalue": "Undefined plan with nthreads. This is a bug",
     "output_type": "error",
     "traceback": [
      "\u001b[0;31m---------------------------------------------------------------------------\u001b[0m",
      "\u001b[0;31mRuntimeError\u001b[0m                              Traceback (most recent call last)",
      "\u001b[0;31mRuntimeError\u001b[0m: Undefined plan with nthreads. This is a bug"
     ]
    },
    {
     "name": "stderr",
     "output_type": "stream",
     "text": [
      "Exception ignored in: 'pyfftw.pyfftw._fftw_plan_with_nthreads_null'\n",
      "Traceback (most recent call last):\n",
      "  File \"/global/homes/a/ab2368/.conda/envs/varying_dndz/lib/python3.9/site-packages/velocileptors/Utils/spherical_bessel_transform_fftw.py\", line 65, in __init__\n",
      "    self.ifft_object = pyfftw.FFTW(self.gks, self.gs, direction='FFTW_BACKWARD',threads=threads)\n",
      "RuntimeError: Undefined plan with nthreads. This is a bug\n"
     ]
    },
    {
     "ename": "RuntimeError",
     "evalue": "Undefined plan with nthreads. This is a bug",
     "output_type": "error",
     "traceback": [
      "\u001b[0;31m---------------------------------------------------------------------------\u001b[0m",
      "\u001b[0;31mRuntimeError\u001b[0m                              Traceback (most recent call last)",
      "\u001b[0;31mRuntimeError\u001b[0m: Undefined plan with nthreads. This is a bug"
     ]
    },
    {
     "name": "stderr",
     "output_type": "stream",
     "text": [
      "Exception ignored in: 'pyfftw.pyfftw._fftw_plan_with_nthreads_null'\n",
      "Traceback (most recent call last):\n",
      "  File \"/global/homes/a/ab2368/.conda/envs/varying_dndz/lib/python3.9/site-packages/velocileptors/Utils/spherical_bessel_transform_fftw.py\", line 64, in __init__\n",
      "    self.fft_object = pyfftw.FFTW(self.fs, self.fks, direction='FFTW_FORWARD',threads=threads)\n",
      "RuntimeError: Undefined plan with nthreads. This is a bug\n"
     ]
    },
    {
     "ename": "RuntimeError",
     "evalue": "Undefined plan with nthreads. This is a bug",
     "output_type": "error",
     "traceback": [
      "\u001b[0;31m---------------------------------------------------------------------------\u001b[0m",
      "\u001b[0;31mRuntimeError\u001b[0m                              Traceback (most recent call last)",
      "\u001b[0;31mRuntimeError\u001b[0m: Undefined plan with nthreads. This is a bug"
     ]
    },
    {
     "name": "stderr",
     "output_type": "stream",
     "text": [
      "Exception ignored in: 'pyfftw.pyfftw._fftw_plan_with_nthreads_null'\n",
      "Traceback (most recent call last):\n",
      "  File \"/global/homes/a/ab2368/.conda/envs/varying_dndz/lib/python3.9/site-packages/velocileptors/Utils/spherical_bessel_transform_fftw.py\", line 65, in __init__\n",
      "    self.ifft_object = pyfftw.FFTW(self.gks, self.gs, direction='FFTW_BACKWARD',threads=threads)\n",
      "RuntimeError: Undefined plan with nthreads. This is a bug\n"
     ]
    },
    {
     "ename": "RuntimeError",
     "evalue": "Undefined plan with nthreads. This is a bug",
     "output_type": "error",
     "traceback": [
      "\u001b[0;31m---------------------------------------------------------------------------\u001b[0m",
      "\u001b[0;31mRuntimeError\u001b[0m                              Traceback (most recent call last)",
      "\u001b[0;31mRuntimeError\u001b[0m: Undefined plan with nthreads. This is a bug"
     ]
    },
    {
     "name": "stderr",
     "output_type": "stream",
     "text": [
      "Exception ignored in: 'pyfftw.pyfftw._fftw_plan_with_nthreads_null'\n",
      "Traceback (most recent call last):\n",
      "  File \"/global/homes/a/ab2368/.conda/envs/varying_dndz/lib/python3.9/site-packages/velocileptors/Utils/spherical_bessel_transform_fftw.py\", line 64, in __init__\n",
      "    self.fft_object = pyfftw.FFTW(self.fs, self.fks, direction='FFTW_FORWARD',threads=threads)\n",
      "RuntimeError: Undefined plan with nthreads. This is a bug\n"
     ]
    },
    {
     "ename": "RuntimeError",
     "evalue": "Undefined plan with nthreads. This is a bug",
     "output_type": "error",
     "traceback": [
      "\u001b[0;31m---------------------------------------------------------------------------\u001b[0m",
      "\u001b[0;31mRuntimeError\u001b[0m                              Traceback (most recent call last)",
      "\u001b[0;31mRuntimeError\u001b[0m: Undefined plan with nthreads. This is a bug"
     ]
    },
    {
     "name": "stderr",
     "output_type": "stream",
     "text": [
      "Exception ignored in: 'pyfftw.pyfftw._fftw_plan_with_nthreads_null'\n",
      "Traceback (most recent call last):\n",
      "  File \"/global/homes/a/ab2368/.conda/envs/varying_dndz/lib/python3.9/site-packages/velocileptors/Utils/spherical_bessel_transform_fftw.py\", line 65, in __init__\n",
      "    self.ifft_object = pyfftw.FFTW(self.gks, self.gs, direction='FFTW_BACKWARD',threads=threads)\n",
      "RuntimeError: Undefined plan with nthreads. This is a bug\n"
     ]
    },
    {
     "ename": "RuntimeError",
     "evalue": "Undefined plan with nthreads. This is a bug",
     "output_type": "error",
     "traceback": [
      "\u001b[0;31m---------------------------------------------------------------------------\u001b[0m",
      "\u001b[0;31mRuntimeError\u001b[0m                              Traceback (most recent call last)",
      "\u001b[0;31mRuntimeError\u001b[0m: Undefined plan with nthreads. This is a bug"
     ]
    },
    {
     "name": "stderr",
     "output_type": "stream",
     "text": [
      "Exception ignored in: 'pyfftw.pyfftw._fftw_plan_with_nthreads_null'\n",
      "Traceback (most recent call last):\n",
      "  File \"/global/homes/a/ab2368/.conda/envs/varying_dndz/lib/python3.9/site-packages/velocileptors/Utils/spherical_bessel_transform_fftw.py\", line 64, in __init__\n",
      "    self.fft_object = pyfftw.FFTW(self.fs, self.fks, direction='FFTW_FORWARD',threads=threads)\n",
      "RuntimeError: Undefined plan with nthreads. This is a bug\n"
     ]
    },
    {
     "ename": "RuntimeError",
     "evalue": "Undefined plan with nthreads. This is a bug",
     "output_type": "error",
     "traceback": [
      "\u001b[0;31m---------------------------------------------------------------------------\u001b[0m",
      "\u001b[0;31mRuntimeError\u001b[0m                              Traceback (most recent call last)",
      "\u001b[0;31mRuntimeError\u001b[0m: Undefined plan with nthreads. This is a bug"
     ]
    },
    {
     "name": "stderr",
     "output_type": "stream",
     "text": [
      "Exception ignored in: 'pyfftw.pyfftw._fftw_plan_with_nthreads_null'\n",
      "Traceback (most recent call last):\n",
      "  File \"/global/homes/a/ab2368/.conda/envs/varying_dndz/lib/python3.9/site-packages/velocileptors/Utils/spherical_bessel_transform_fftw.py\", line 65, in __init__\n",
      "    self.ifft_object = pyfftw.FFTW(self.gks, self.gs, direction='FFTW_BACKWARD',threads=threads)\n",
      "RuntimeError: Undefined plan with nthreads. This is a bug\n"
     ]
    },
    {
     "ename": "RuntimeError",
     "evalue": "Undefined plan with nthreads. This is a bug",
     "output_type": "error",
     "traceback": [
      "\u001b[0;31m---------------------------------------------------------------------------\u001b[0m",
      "\u001b[0;31mRuntimeError\u001b[0m                              Traceback (most recent call last)",
      "\u001b[0;31mRuntimeError\u001b[0m: Undefined plan with nthreads. This is a bug"
     ]
    },
    {
     "name": "stderr",
     "output_type": "stream",
     "text": [
      "Exception ignored in: 'pyfftw.pyfftw._fftw_plan_with_nthreads_null'\n",
      "Traceback (most recent call last):\n",
      "  File \"/global/homes/a/ab2368/.conda/envs/varying_dndz/lib/python3.9/site-packages/velocileptors/Utils/spherical_bessel_transform_fftw.py\", line 64, in __init__\n",
      "    self.fft_object = pyfftw.FFTW(self.fs, self.fks, direction='FFTW_FORWARD',threads=threads)\n",
      "RuntimeError: Undefined plan with nthreads. This is a bug\n"
     ]
    },
    {
     "ename": "RuntimeError",
     "evalue": "Undefined plan with nthreads. This is a bug",
     "output_type": "error",
     "traceback": [
      "\u001b[0;31m---------------------------------------------------------------------------\u001b[0m",
      "\u001b[0;31mRuntimeError\u001b[0m                              Traceback (most recent call last)",
      "\u001b[0;31mRuntimeError\u001b[0m: Undefined plan with nthreads. This is a bug"
     ]
    },
    {
     "name": "stderr",
     "output_type": "stream",
     "text": [
      "Exception ignored in: 'pyfftw.pyfftw._fftw_plan_with_nthreads_null'\n",
      "Traceback (most recent call last):\n",
      "  File \"/global/homes/a/ab2368/.conda/envs/varying_dndz/lib/python3.9/site-packages/velocileptors/Utils/spherical_bessel_transform_fftw.py\", line 65, in __init__\n",
      "    self.ifft_object = pyfftw.FFTW(self.gks, self.gs, direction='FFTW_BACKWARD',threads=threads)\n",
      "RuntimeError: Undefined plan with nthreads. This is a bug\n"
     ]
    },
    {
     "ename": "RuntimeError",
     "evalue": "Undefined plan with nthreads. This is a bug",
     "output_type": "error",
     "traceback": [
      "\u001b[0;31m---------------------------------------------------------------------------\u001b[0m",
      "\u001b[0;31mRuntimeError\u001b[0m                              Traceback (most recent call last)",
      "\u001b[0;31mRuntimeError\u001b[0m: Undefined plan with nthreads. This is a bug"
     ]
    },
    {
     "name": "stderr",
     "output_type": "stream",
     "text": [
      "Exception ignored in: 'pyfftw.pyfftw._fftw_plan_with_nthreads_null'\n",
      "Traceback (most recent call last):\n",
      "  File \"/global/homes/a/ab2368/.conda/envs/varying_dndz/lib/python3.9/site-packages/velocileptors/Utils/spherical_bessel_transform_fftw.py\", line 64, in __init__\n",
      "    self.fft_object = pyfftw.FFTW(self.fs, self.fks, direction='FFTW_FORWARD',threads=threads)\n",
      "RuntimeError: Undefined plan with nthreads. This is a bug\n"
     ]
    },
    {
     "ename": "RuntimeError",
     "evalue": "Undefined plan with nthreads. This is a bug",
     "output_type": "error",
     "traceback": [
      "\u001b[0;31m---------------------------------------------------------------------------\u001b[0m",
      "\u001b[0;31mRuntimeError\u001b[0m                              Traceback (most recent call last)",
      "\u001b[0;31mRuntimeError\u001b[0m: Undefined plan with nthreads. This is a bug"
     ]
    },
    {
     "name": "stderr",
     "output_type": "stream",
     "text": [
      "Exception ignored in: 'pyfftw.pyfftw._fftw_plan_with_nthreads_null'\n",
      "Traceback (most recent call last):\n",
      "  File \"/global/homes/a/ab2368/.conda/envs/varying_dndz/lib/python3.9/site-packages/velocileptors/Utils/spherical_bessel_transform_fftw.py\", line 65, in __init__\n",
      "    self.ifft_object = pyfftw.FFTW(self.gks, self.gs, direction='FFTW_BACKWARD',threads=threads)\n",
      "RuntimeError: Undefined plan with nthreads. This is a bug\n"
     ]
    },
    {
     "ename": "RuntimeError",
     "evalue": "Undefined plan with nthreads. This is a bug",
     "output_type": "error",
     "traceback": [
      "\u001b[0;31m---------------------------------------------------------------------------\u001b[0m",
      "\u001b[0;31mRuntimeError\u001b[0m                              Traceback (most recent call last)",
      "\u001b[0;31mRuntimeError\u001b[0m: Undefined plan with nthreads. This is a bug"
     ]
    },
    {
     "name": "stderr",
     "output_type": "stream",
     "text": [
      "Exception ignored in: 'pyfftw.pyfftw._fftw_plan_with_nthreads_null'\n",
      "Traceback (most recent call last):\n",
      "  File \"/global/homes/a/ab2368/.conda/envs/varying_dndz/lib/python3.9/site-packages/velocileptors/Utils/spherical_bessel_transform_fftw.py\", line 64, in __init__\n",
      "    self.fft_object = pyfftw.FFTW(self.fs, self.fks, direction='FFTW_FORWARD',threads=threads)\n",
      "RuntimeError: Undefined plan with nthreads. This is a bug\n"
     ]
    },
    {
     "ename": "RuntimeError",
     "evalue": "Undefined plan with nthreads. This is a bug",
     "output_type": "error",
     "traceback": [
      "\u001b[0;31m---------------------------------------------------------------------------\u001b[0m",
      "\u001b[0;31mRuntimeError\u001b[0m                              Traceback (most recent call last)",
      "\u001b[0;31mRuntimeError\u001b[0m: Undefined plan with nthreads. This is a bug"
     ]
    },
    {
     "name": "stderr",
     "output_type": "stream",
     "text": [
      "Exception ignored in: 'pyfftw.pyfftw._fftw_plan_with_nthreads_null'\n",
      "Traceback (most recent call last):\n",
      "  File \"/global/homes/a/ab2368/.conda/envs/varying_dndz/lib/python3.9/site-packages/velocileptors/Utils/spherical_bessel_transform_fftw.py\", line 65, in __init__\n",
      "    self.ifft_object = pyfftw.FFTW(self.gks, self.gs, direction='FFTW_BACKWARD',threads=threads)\n",
      "RuntimeError: Undefined plan with nthreads. This is a bug\n"
     ]
    }
   ],
   "source": [
    "redmagic_wn = biases.experiment(sigma, z_mean, sigma_zshift, sigma_zwidth, nside, bvec)"
   ]
  },
  {
   "cell_type": "markdown",
   "metadata": {},
   "source": [
    "Note that you can already generate some interesting visualizations. For example:"
   ]
  },
  {
   "cell_type": "code",
   "execution_count": 134,
   "metadata": {},
   "outputs": [
    {
     "data": {
      "image/png": "[encoded data removed]",
      "text/plain": [
       "<Figure size 640x480 with 1 Axes>"
      ]
     },
     "metadata": {},
     "output_type": "display_data"
    },
    {
     "data": {
      "image/png": "[encoded data removed]",
      "text/plain": [
       "<Figure size 640x480 with 2 Axes>"
      ]
     },
     "metadata": {},
     "output_type": "display_data"
    }
   ],
   "source": [
    "redmagic_wn.plot_realizations()\n",
    "plt.show()\n",
    "redmagic_wn.plot_ClDphi_vs_chi_chiprime_2D(20)"
   ]
  },
  {
   "cell_type": "markdown",
   "metadata": {},
   "source": [
    "We save the key properties to file so they can be load by the parallel processes we're about to create."
   ]
  },
  {
   "cell_type": "code",
   "execution_count": 135,
   "metadata": {},
   "outputs": [],
   "source": [
    "filename = '/pscratch/sd/a/ab2368/data/redmagic_wn_sigmazshift{}_nside'.format(sigma_zshift, nside)\n",
    "redmagic_wn.save_properties(filename)"
   ]
  },
  {
   "cell_type": "markdown",
   "metadata": {},
   "source": [
    "#### Scripts for parallelization"
   ]
  },
  {
   "cell_type": "markdown",
   "metadata": {},
   "source": [
    "Let's write a script to compute the biases in parallel, using a different core/process for each $\\ell$:"
   ]
  },
  {
   "cell_type": "code",
   "execution_count": 137,
   "metadata": {},
   "outputs": [
    {
     "name": "stdout",
     "output_type": "stream",
     "text": [
      "Overwriting /global/u1/a/ab2368/varying_dndzs/Varying_dndzs/scripts/compute_biases_in_parallel.py\n"
     ]
    }
   ],
   "source": [
    "%%writefile /global/u1/a/ab2368/varying_dndzs/Varying_dndzs/scripts/compute_biases_in_parallel.py\n",
    "#!/global/homes/a/ab2368/.conda/envs/varying_dndz python\n",
    "import sys\n",
    "sys.path.insert(0, '/global/homes/a/ab2368/varying_dndzs/Varying_dndzs/code/')\n",
    "import numpy as np\n",
    "import biases\n",
    "\n",
    "# Load scenario from file\n",
    "sigma_zshift = 0.02703\n",
    "nside = 8\n",
    "filename = '/pscratch/sd/a/ab2368/data/redmagic_wn_sigmazshift{}_nside'.format(sigma_zshift, nside)\n",
    "loaded_exp = biases.load_from_file(filename)\n",
    "\n",
    "# Hyperparameters for numerical integration\n",
    "num_processes = 16\n",
    "miniter = 1000\n",
    "maxiter = 5000\n",
    "tol = 1e-11\n",
    "\n",
    "# The ells where we want to evaluate the spectra\n",
    "loaded_exp.ells = np.linspace(10, 1000, 16, dtype=int)\n",
    "\n",
    "if hasattr(loaded_exp, 'conv_bias'):\n",
    "    print(\"It looks like you've already computed the biases for this scenario. Please delete them from file you really want to re-rerun things.\")\n",
    "else:\n",
    "    loaded_exp.conv_bias = biases.mode_coupling_bias(loaded_exp, loaded_exp.ells, num_processes=num_processes, miniter=miniter, maxiter=maxiter, tol=tol)\n",
    "    loaded_exp.save_properties(filename)\n",
    "    loaded_exp.additive_bias = biases.additive_bias(loaded_exp, loaded_exp.ells, num_processes=num_processes, miniter=miniter, maxiter=maxiter, tol=tol)\n",
    "    loaded_exp.save_properties(filename)\n",
    "    loaded_exp.unbiased_clgg = biases.unbiased_term(loaded_exp, loaded_exp.ells, num_processes=num_processes, miniter=miniter, maxiter=maxiter, tol=tol)\n",
    "\n",
    "# Save to file, this time including the biases as an attribute!\n",
    "loaded_exp.save_properties(filename)"
   ]
  },
  {
   "cell_type": "markdown",
   "metadata": {},
   "source": [
    "This takes about 10 minutes on an interactive node on perlmutter"
   ]
  },
  {
   "cell_type": "markdown",
   "metadata": {},
   "source": [
    "#### Inspecting the outputs"
   ]
  },
  {
   "cell_type": "markdown",
   "metadata": {},
   "source": [
    "We can now simply plot the biases we've computed"
   ]
  },
  {
   "cell_type": "code",
   "execution_count": 144,
   "metadata": {},
   "outputs": [
    {
     "name": "stdout",
     "output_type": "stream",
     "text": [
      "Successfully loaded experiment object with properties:\n",
      "\n",
      "Initialized empty object\n"
     ]
    },
    {
     "data": {
      "text/plain": [
       "<matplotlib.legend.Legend at 0x7f5745a0c640>"
      ]
     },
     "execution_count": 144,
     "metadata": {},
     "output_type": "execute_result"
    },
    {
     "data": {
      "image/png": "[encoded data removed]",
      "text/plain": [
       "<Figure size 640x480 with 1 Axes>"
      ]
     },
     "metadata": {},
     "output_type": "display_data"
    }
   ],
   "source": [
    "# Load scenario from file\n",
    "sigma_zshift = 0.02703\n",
    "nside = 8\n",
    "filename = '/pscratch/sd/a/ab2368/data/redmagic_wn_sigmazshift{}_nside'.format(sigma_zshift, nside)\n",
    "loaded_exp = biases.load_from_file(filename)\n",
    "\n",
    "plt.loglog(loaded_exp.ells, loaded_exp.unbiased_clgg, label='Unbiased')\n",
    "plt.loglog(loaded_exp.ells, loaded_exp.conv_bias, label='Mode-coupling bias')\n",
    "plt.loglog(loaded_exp.ells, loaded_exp.additive_bias, label='Additive bias')\n",
    "\n",
    "plt.legend()"
   ]
  },
  {
   "cell_type": "code",
   "execution_count": null,
   "metadata": {},
   "outputs": [],
   "source": []
  }
 ],
 "metadata": {
  "kernelspec": {
   "display_name": "varying_dndz",
   "language": "python",
   "name": "varying_dndz"
  },
  "language_info": {
   "codemirror_mode": {
    "name": "ipython",
    "version": 3
   },
   "file_extension": ".py",
   "mimetype": "text/x-python",
   "name": "python",
   "nbconvert_exporter": "python",
   "pygments_lexer": "ipython3",
   "version": "3.9.16"
  },
  "toc": {
   "base_numbering": 1,
   "nav_menu": {},
   "number_sections": true,
   "sideBar": true,
   "skip_h1_title": false,
   "title_cell": "Table of Contents",
   "title_sidebar": "Contents",
   "toc_cell": false,
   "toc_position": {},
   "toc_section_display": true,
   "toc_window_display": false
  }
 },
 "nbformat": 4,
 "nbformat_minor": 4
}
